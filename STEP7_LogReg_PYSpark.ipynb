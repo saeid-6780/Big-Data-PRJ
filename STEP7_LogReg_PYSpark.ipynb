{
  "nbformat": 4,
  "nbformat_minor": 0,
  "metadata": {
    "colab": {
      "name": "STEP7_LogReg_PYSpark.ipynb",
      "provenance": [],
      "collapsed_sections": [],
      "authorship_tag": "ABX9TyNnPwSOxgvr/5lHmIGKdJsZ",
      "include_colab_link": true
    },
    "kernelspec": {
      "name": "python3",
      "display_name": "Python 3"
    },
    "language_info": {
      "name": "python"
    }
  },
  "cells": [
    {
      "cell_type": "markdown",
      "metadata": {
        "id": "view-in-github",
        "colab_type": "text"
      },
      "source": [
        "<a href=\"https://colab.research.google.com/github/saeid-6780/Big-Data-PRJ/blob/main/STEP7_LogReg_PYSpark.ipynb\" target=\"_parent\"><img src=\"https://colab.research.google.com/assets/colab-badge.svg\" alt=\"Open In Colab\"/></a>"
      ]
    },
    {
      "cell_type": "code",
      "execution_count": 1,
      "metadata": {
        "colab": {
          "base_uri": "https://localhost:8080/"
        },
        "id": "geVvIa1Pzf0X",
        "outputId": "b863994b-805f-42cd-9e01-735e106af426"
      },
      "outputs": [
        {
          "output_type": "stream",
          "name": "stdout",
          "text": [
            "\u001b[K     |████████████████████████████████| 281.3 MB 45 kB/s \n",
            "\u001b[K     |████████████████████████████████| 199 kB 14.6 MB/s \n",
            "\u001b[?25h  Building wheel for pyspark (setup.py) ... \u001b[?25l\u001b[?25hdone\n",
            "Mounted at /content/gdrive\n"
          ]
        }
      ],
      "source": [
        "# for colab only\n",
        "!pip install pyspark --quiet\n",
        "from google.colab import drive\n",
        "drive.mount('/content/gdrive')\n"
      ]
    },
    {
      "cell_type": "code",
      "source": [
        "import pyspark\n",
        "from pyspark.ml import Pipeline\n",
        "from pyspark.ml.linalg import Vectors\n",
        "from pyspark.ml.classification import LogisticRegression\n",
        "from pyspark.ml.feature import *\n",
        "from pyspark.ml.evaluation import BinaryClassificationEvaluator\n",
        "from pyspark.ml.tuning import ParamGridBuilder, CrossValidator\n",
        "from pyspark.sql import Row\n",
        "from pyspark.sql.functions import *\n",
        "from pyspark.sql.types import *\n",
        "import os\n",
        "import sys\n",
        "from pyspark import SparkContext\n",
        "from pyspark.sql import SQLContext\n",
        "\n",
        "sc = SparkContext()\n",
        "sc.version"
      ],
      "metadata": {
        "colab": {
          "base_uri": "https://localhost:8080/",
          "height": 35
        },
        "id": "Q0N3zh6yz7re",
        "outputId": "275b6fdf-b782-40ac-dca0-ec16c6605ff2"
      },
      "execution_count": 2,
      "outputs": [
        {
          "output_type": "execute_result",
          "data": {
            "text/plain": [
              "'3.3.0'"
            ],
            "application/vnd.google.colaboratory.intrinsic+json": {
              "type": "string"
            }
          },
          "metadata": {},
          "execution_count": 2
        }
      ]
    },
    {
      "cell_type": "code",
      "source": [
        "from pyspark.sql import SparkSession\n",
        "spark = SparkSession.builder.appName('ml-hw').getOrCreate()\n",
        "df = spark.read.csv('/content/gdrive/MyDrive/BD/data.csv', header = True, inferSchema = True)\n",
        "df.printSchema()"
      ],
      "metadata": {
        "colab": {
          "base_uri": "https://localhost:8080/"
        },
        "id": "DiPLwUUv0FEb",
        "outputId": "62faab33-baf5-47db-a64f-2bfca7d71100"
      },
      "execution_count": 3,
      "outputs": [
        {
          "output_type": "stream",
          "name": "stdout",
          "text": [
            "root\n",
            " |-- Date/Time: string (nullable = true)\n",
            " |-- Lat: double (nullable = true)\n",
            " |-- Lon: double (nullable = true)\n",
            " |-- Base: string (nullable = true)\n",
            "\n"
          ]
        }
      ]
    },
    {
      "cell_type": "code",
      "source": [
        "from datetime import datetime\n",
        "from pyspark.sql.functions import col, udf\n",
        "from pyspark.sql.types import DateType\n",
        "from pyspark.sql import functions as F\n",
        "df=df.withColumn(\"id\",F.monotonically_increasing_id())\n",
        "df=df.withColumnRenamed(\"DATE/time\",\"datetime\")\n",
        "\n",
        "func =  udf (lambda x: datetime.strptime(x, '%m/%d/%Y %H:%M:%S'), TimestampType())\n",
        "df2 = df.withColumn('timestamp', func(col('datetime')))\n",
        "#df.withColumn(\"timestamp\",to_timestamp(lit('06-24-2019 Date/Time'),'MM/dd/yyyy H:mm:ss')).show(truncate=False)\n",
        "df2.show()\n",
        "#df=df.withColumnRenamed(\"DATE/time\",\"datetime\")\n",
        "#df.show()\n",
        "#df.withColumn(\"timestamp\",to_timestamp(\"datetime\", 'MM/dd/yyyy HH:mm:ss')).show(truncate=False)\n",
        "#df.select(to_timestamp(df.datetime, 'MM/dd/yyyy HH:mm:ss').alias('dt')).collect()"
      ],
      "metadata": {
        "colab": {
          "base_uri": "https://localhost:8080/"
        },
        "id": "izyfTsR0QJf9",
        "outputId": "558345be-03d5-4511-b2c3-b3f2119a94b5"
      },
      "execution_count": 4,
      "outputs": [
        {
          "output_type": "stream",
          "name": "stdout",
          "text": [
            "+----------------+-------+--------+------+---+-------------------+\n",
            "|        datetime|    Lat|     Lon|  Base| id|          timestamp|\n",
            "+----------------+-------+--------+------+---+-------------------+\n",
            "|9/1/2014 0:01:00|40.2201|-74.0021|B02512|  0|2014-09-01 00:01:00|\n",
            "|9/1/2014 0:01:00|  40.75|-74.0027|B02512|  1|2014-09-01 00:01:00|\n",
            "|9/1/2014 0:03:00|40.7559|-73.9864|B02512|  2|2014-09-01 00:03:00|\n",
            "|9/1/2014 0:06:00| 40.745|-73.9889|B02512|  3|2014-09-01 00:06:00|\n",
            "|9/1/2014 0:11:00|40.8145|-73.9444|B02512|  4|2014-09-01 00:11:00|\n",
            "|9/1/2014 0:12:00|40.6735|-73.9918|B02512|  5|2014-09-01 00:12:00|\n",
            "|9/1/2014 0:15:00|40.7471|-73.6472|B02512|  6|2014-09-01 00:15:00|\n",
            "|9/1/2014 0:16:00|40.6613|-74.2691|B02512|  7|2014-09-01 00:16:00|\n",
            "|9/1/2014 0:32:00|40.3745|-73.9999|B02512|  8|2014-09-01 00:32:00|\n",
            "|9/1/2014 0:33:00|40.7633|-73.9773|B02512|  9|2014-09-01 00:33:00|\n",
            "|9/1/2014 0:33:00|40.7467|-73.6131|B02512| 10|2014-09-01 00:33:00|\n",
            "|9/1/2014 0:37:00|40.8105|  -73.96|B02512| 11|2014-09-01 00:37:00|\n",
            "|9/1/2014 0:38:00| 40.679|-74.0111|B02512| 12|2014-09-01 00:38:00|\n",
            "|9/1/2014 0:39:00|40.4023|-73.9839|B02512| 13|2014-09-01 00:39:00|\n",
            "|9/1/2014 0:48:00|40.7378|-74.0395|B02512| 14|2014-09-01 00:48:00|\n",
            "|9/1/2014 0:48:00|40.7214|-73.9884|B02512| 15|2014-09-01 00:48:00|\n",
            "|9/1/2014 0:49:00|40.8646|-73.9081|B02512| 16|2014-09-01 00:49:00|\n",
            "|9/1/2014 1:08:00|40.7398|-74.0061|B02512| 17|2014-09-01 01:08:00|\n",
            "|9/1/2014 1:17:00|40.6793|-74.0116|B02512| 18|2014-09-01 01:17:00|\n",
            "|9/1/2014 1:19:00|40.7328|-73.9875|B02512| 19|2014-09-01 01:19:00|\n",
            "+----------------+-------+--------+------+---+-------------------+\n",
            "only showing top 20 rows\n",
            "\n"
          ]
        }
      ]
    },
    {
      "cell_type": "code",
      "source": [
        "\n",
        "df2=(df2\n",
        "  .withColumn('yearday', F.dayofyear(F.col(\"timestamp\")))\n",
        " .withColumn('Month', F.month(F.col('timestamp')))\n",
        " .withColumn('dayofweek', F.dayofweek(F.col('timestamp')))\n",
        " .withColumn('YEAR', F.year(F.col('timestamp')))\n",
        " .withColumn('QUARTER', F.quarter(F.col('timestamp')))\n",
        " .withColumn('Month', F.month(F.col('timestamp')))\n",
        " .withColumn('WeekOfYear', F.weekofyear(F.col('timestamp')))\n",
        " .withColumn('Week', F.date_trunc('week',F.col('timestamp')))\n",
        ")\n",
        "\n",
        "df2.show()"
      ],
      "metadata": {
        "colab": {
          "base_uri": "https://localhost:8080/"
        },
        "id": "yc8fBlTo0ntB",
        "outputId": "70320845-6971-49eb-a6bc-50cb7f562c2e"
      },
      "execution_count": 5,
      "outputs": [
        {
          "output_type": "stream",
          "name": "stdout",
          "text": [
            "+----------------+-------+--------+------+---+-------------------+-------+-----+---------+----+-------+----------+-------------------+\n",
            "|        datetime|    Lat|     Lon|  Base| id|          timestamp|yearday|Month|dayofweek|YEAR|QUARTER|WeekOfYear|               Week|\n",
            "+----------------+-------+--------+------+---+-------------------+-------+-----+---------+----+-------+----------+-------------------+\n",
            "|9/1/2014 0:01:00|40.2201|-74.0021|B02512|  0|2014-09-01 00:01:00|    244|    9|        2|2014|      3|        36|2014-09-01 00:00:00|\n",
            "|9/1/2014 0:01:00|  40.75|-74.0027|B02512|  1|2014-09-01 00:01:00|    244|    9|        2|2014|      3|        36|2014-09-01 00:00:00|\n",
            "|9/1/2014 0:03:00|40.7559|-73.9864|B02512|  2|2014-09-01 00:03:00|    244|    9|        2|2014|      3|        36|2014-09-01 00:00:00|\n",
            "|9/1/2014 0:06:00| 40.745|-73.9889|B02512|  3|2014-09-01 00:06:00|    244|    9|        2|2014|      3|        36|2014-09-01 00:00:00|\n",
            "|9/1/2014 0:11:00|40.8145|-73.9444|B02512|  4|2014-09-01 00:11:00|    244|    9|        2|2014|      3|        36|2014-09-01 00:00:00|\n",
            "|9/1/2014 0:12:00|40.6735|-73.9918|B02512|  5|2014-09-01 00:12:00|    244|    9|        2|2014|      3|        36|2014-09-01 00:00:00|\n",
            "|9/1/2014 0:15:00|40.7471|-73.6472|B02512|  6|2014-09-01 00:15:00|    244|    9|        2|2014|      3|        36|2014-09-01 00:00:00|\n",
            "|9/1/2014 0:16:00|40.6613|-74.2691|B02512|  7|2014-09-01 00:16:00|    244|    9|        2|2014|      3|        36|2014-09-01 00:00:00|\n",
            "|9/1/2014 0:32:00|40.3745|-73.9999|B02512|  8|2014-09-01 00:32:00|    244|    9|        2|2014|      3|        36|2014-09-01 00:00:00|\n",
            "|9/1/2014 0:33:00|40.7633|-73.9773|B02512|  9|2014-09-01 00:33:00|    244|    9|        2|2014|      3|        36|2014-09-01 00:00:00|\n",
            "|9/1/2014 0:33:00|40.7467|-73.6131|B02512| 10|2014-09-01 00:33:00|    244|    9|        2|2014|      3|        36|2014-09-01 00:00:00|\n",
            "|9/1/2014 0:37:00|40.8105|  -73.96|B02512| 11|2014-09-01 00:37:00|    244|    9|        2|2014|      3|        36|2014-09-01 00:00:00|\n",
            "|9/1/2014 0:38:00| 40.679|-74.0111|B02512| 12|2014-09-01 00:38:00|    244|    9|        2|2014|      3|        36|2014-09-01 00:00:00|\n",
            "|9/1/2014 0:39:00|40.4023|-73.9839|B02512| 13|2014-09-01 00:39:00|    244|    9|        2|2014|      3|        36|2014-09-01 00:00:00|\n",
            "|9/1/2014 0:48:00|40.7378|-74.0395|B02512| 14|2014-09-01 00:48:00|    244|    9|        2|2014|      3|        36|2014-09-01 00:00:00|\n",
            "|9/1/2014 0:48:00|40.7214|-73.9884|B02512| 15|2014-09-01 00:48:00|    244|    9|        2|2014|      3|        36|2014-09-01 00:00:00|\n",
            "|9/1/2014 0:49:00|40.8646|-73.9081|B02512| 16|2014-09-01 00:49:00|    244|    9|        2|2014|      3|        36|2014-09-01 00:00:00|\n",
            "|9/1/2014 1:08:00|40.7398|-74.0061|B02512| 17|2014-09-01 01:08:00|    244|    9|        2|2014|      3|        36|2014-09-01 00:00:00|\n",
            "|9/1/2014 1:17:00|40.6793|-74.0116|B02512| 18|2014-09-01 01:17:00|    244|    9|        2|2014|      3|        36|2014-09-01 00:00:00|\n",
            "|9/1/2014 1:19:00|40.7328|-73.9875|B02512| 19|2014-09-01 01:19:00|    244|    9|        2|2014|      3|        36|2014-09-01 00:00:00|\n",
            "+----------------+-------+--------+------+---+-------------------+-------+-----+---------+----+-------+----------+-------------------+\n",
            "only showing top 20 rows\n",
            "\n"
          ]
        }
      ]
    },
    {
      "cell_type": "code",
      "source": [
        "df2=(df2\n",
        "  .withColumn('dayofmonth', F.dayofmonth(F.col(\"timestamp\")))\n",
        " .withColumn('hour', F.hour(F.col('timestamp')))\n",
        " )\n",
        "df2.show()"
      ],
      "metadata": {
        "colab": {
          "base_uri": "https://localhost:8080/"
        },
        "id": "Y9pFbag9WoKM",
        "outputId": "9d4573bc-cc05-44f9-f0cf-2e6e7cfb0d1e"
      },
      "execution_count": 6,
      "outputs": [
        {
          "output_type": "stream",
          "name": "stdout",
          "text": [
            "+----------------+-------+--------+------+---+-------------------+-------+-----+---------+----+-------+----------+-------------------+----------+----+\n",
            "|        datetime|    Lat|     Lon|  Base| id|          timestamp|yearday|Month|dayofweek|YEAR|QUARTER|WeekOfYear|               Week|dayofmonth|hour|\n",
            "+----------------+-------+--------+------+---+-------------------+-------+-----+---------+----+-------+----------+-------------------+----------+----+\n",
            "|9/1/2014 0:01:00|40.2201|-74.0021|B02512|  0|2014-09-01 00:01:00|    244|    9|        2|2014|      3|        36|2014-09-01 00:00:00|         1|   0|\n",
            "|9/1/2014 0:01:00|  40.75|-74.0027|B02512|  1|2014-09-01 00:01:00|    244|    9|        2|2014|      3|        36|2014-09-01 00:00:00|         1|   0|\n",
            "|9/1/2014 0:03:00|40.7559|-73.9864|B02512|  2|2014-09-01 00:03:00|    244|    9|        2|2014|      3|        36|2014-09-01 00:00:00|         1|   0|\n",
            "|9/1/2014 0:06:00| 40.745|-73.9889|B02512|  3|2014-09-01 00:06:00|    244|    9|        2|2014|      3|        36|2014-09-01 00:00:00|         1|   0|\n",
            "|9/1/2014 0:11:00|40.8145|-73.9444|B02512|  4|2014-09-01 00:11:00|    244|    9|        2|2014|      3|        36|2014-09-01 00:00:00|         1|   0|\n",
            "|9/1/2014 0:12:00|40.6735|-73.9918|B02512|  5|2014-09-01 00:12:00|    244|    9|        2|2014|      3|        36|2014-09-01 00:00:00|         1|   0|\n",
            "|9/1/2014 0:15:00|40.7471|-73.6472|B02512|  6|2014-09-01 00:15:00|    244|    9|        2|2014|      3|        36|2014-09-01 00:00:00|         1|   0|\n",
            "|9/1/2014 0:16:00|40.6613|-74.2691|B02512|  7|2014-09-01 00:16:00|    244|    9|        2|2014|      3|        36|2014-09-01 00:00:00|         1|   0|\n",
            "|9/1/2014 0:32:00|40.3745|-73.9999|B02512|  8|2014-09-01 00:32:00|    244|    9|        2|2014|      3|        36|2014-09-01 00:00:00|         1|   0|\n",
            "|9/1/2014 0:33:00|40.7633|-73.9773|B02512|  9|2014-09-01 00:33:00|    244|    9|        2|2014|      3|        36|2014-09-01 00:00:00|         1|   0|\n",
            "|9/1/2014 0:33:00|40.7467|-73.6131|B02512| 10|2014-09-01 00:33:00|    244|    9|        2|2014|      3|        36|2014-09-01 00:00:00|         1|   0|\n",
            "|9/1/2014 0:37:00|40.8105|  -73.96|B02512| 11|2014-09-01 00:37:00|    244|    9|        2|2014|      3|        36|2014-09-01 00:00:00|         1|   0|\n",
            "|9/1/2014 0:38:00| 40.679|-74.0111|B02512| 12|2014-09-01 00:38:00|    244|    9|        2|2014|      3|        36|2014-09-01 00:00:00|         1|   0|\n",
            "|9/1/2014 0:39:00|40.4023|-73.9839|B02512| 13|2014-09-01 00:39:00|    244|    9|        2|2014|      3|        36|2014-09-01 00:00:00|         1|   0|\n",
            "|9/1/2014 0:48:00|40.7378|-74.0395|B02512| 14|2014-09-01 00:48:00|    244|    9|        2|2014|      3|        36|2014-09-01 00:00:00|         1|   0|\n",
            "|9/1/2014 0:48:00|40.7214|-73.9884|B02512| 15|2014-09-01 00:48:00|    244|    9|        2|2014|      3|        36|2014-09-01 00:00:00|         1|   0|\n",
            "|9/1/2014 0:49:00|40.8646|-73.9081|B02512| 16|2014-09-01 00:49:00|    244|    9|        2|2014|      3|        36|2014-09-01 00:00:00|         1|   0|\n",
            "|9/1/2014 1:08:00|40.7398|-74.0061|B02512| 17|2014-09-01 01:08:00|    244|    9|        2|2014|      3|        36|2014-09-01 00:00:00|         1|   1|\n",
            "|9/1/2014 1:17:00|40.6793|-74.0116|B02512| 18|2014-09-01 01:17:00|    244|    9|        2|2014|      3|        36|2014-09-01 00:00:00|         1|   1|\n",
            "|9/1/2014 1:19:00|40.7328|-73.9875|B02512| 19|2014-09-01 01:19:00|    244|    9|        2|2014|      3|        36|2014-09-01 00:00:00|         1|   1|\n",
            "+----------------+-------+--------+------+---+-------------------+-------+-----+---------+----+-------+----------+-------------------+----------+----+\n",
            "only showing top 20 rows\n",
            "\n"
          ]
        }
      ]
    },
    {
      "cell_type": "code",
      "source": [
        "from pyspark.sql.functions import count, avg\n",
        "df2.drop('datetime')\n",
        "df2.drop('Week')\n",
        "all_fetures_df=df2.groupBy(\"YEAR\", \"QUARTER\",\"Month\",\"Week\",\"WeekOfYear\",\"yearday\" ,\"dayofmonth\",\"dayofweek\",\"hour\").agg(count(\"id\"))\n",
        "all_fetures_df.show()"
      ],
      "metadata": {
        "colab": {
          "base_uri": "https://localhost:8080/"
        },
        "id": "KFjWba36Xy-5",
        "outputId": "ebf0ef06-d392-4fbd-dc53-9cde6091feeb"
      },
      "execution_count": 7,
      "outputs": [
        {
          "output_type": "stream",
          "name": "stdout",
          "text": [
            "+----+-------+-----+-------------------+----------+-------+----------+---------+----+---------+\n",
            "|YEAR|QUARTER|Month|               Week|WeekOfYear|yearday|dayofmonth|dayofweek|hour|count(id)|\n",
            "+----+-------+-----+-------------------+----------+-------+----------+---------+----+---------+\n",
            "|2014|      3|    9|2014-09-01 00:00:00|        36|    244|         1|        2|   5|      283|\n",
            "|2014|      3|    9|2014-09-01 00:00:00|        36|    246|         3|        4|  10|     1232|\n",
            "|2014|      3|    9|2014-09-08 00:00:00|        37|    251|         8|        2|  22|     1117|\n",
            "|2014|      3|    9|2014-09-22 00:00:00|        39|    265|        22|        2|   6|     1357|\n",
            "|2014|      3|    8|2014-08-04 00:00:00|        32|    217|         5|        3|  13|     1166|\n",
            "|2014|      3|    8|2014-08-04 00:00:00|        32|    222|        10|        1|  20|     1155|\n",
            "|2014|      3|    8|2014-08-11 00:00:00|        33|    224|        12|        3|   6|      987|\n",
            "|2014|      3|    8|2014-08-11 00:00:00|        33|    227|        15|        6|   0|      627|\n",
            "|2014|      3|    8|2014-08-18 00:00:00|        34|    236|        24|        1|   5|      304|\n",
            "|2014|      3|    8|2014-08-25 00:00:00|        35|    240|        28|        5|  10|     1130|\n",
            "|2014|      3|    8|2014-08-25 00:00:00|        35|    242|        30|        7|   0|      965|\n",
            "|2014|      3|    7|2014-06-30 00:00:00|        27|    186|         5|        7|  17|      622|\n",
            "|2014|      3|    7|2014-07-07 00:00:00|        28|    189|         8|        3|   9|      961|\n",
            "|2014|      3|    7|2014-07-07 00:00:00|        28|    192|        11|        6|   2|      231|\n",
            "|2014|      3|    7|2014-07-14 00:00:00|        29|    196|        15|        3|  18|     3302|\n",
            "|2014|      3|    7|2014-07-14 00:00:00|        29|    198|        17|        5|   0|      415|\n",
            "|2014|      3|    7|2014-07-14 00:00:00|        29|    198|        17|        5|  22|     1961|\n",
            "|2014|      3|    7|2014-07-14 00:00:00|        29|    201|        20|        1|   5|      258|\n",
            "|2014|      3|    7|2014-07-21 00:00:00|        30|    205|        24|        5|  10|     1110|\n",
            "|2014|      3|    7|2014-07-28 00:00:00|        31|    212|        31|        5|   5|      601|\n",
            "+----+-------+-----+-------------------+----------+-------+----------+---------+----+---------+\n",
            "only showing top 20 rows\n",
            "\n"
          ]
        }
      ]
    },
    {
      "cell_type": "code",
      "source": [
        "from pyspark.sql.types import IntegerType\n",
        "\n",
        "all_fetures_df.printSchema()\n",
        "\n",
        "#all_fetures_df=all_fetures_df.withColumn(\"YEAR\",all_fetures_df.YEAR.cast(IntegerType()))\n",
        "#all_fetures_df=all_fetures_df.withColumn(\"QUARTER\",all_fetures_df.QUARTER.cast(IntegerType()))\n",
        "#all_fetures_df=all_fetures_df.withColumn(\"Month\",all_fetures_df.Month.cast(IntegerType()))\n",
        "#all_fetures_df=all_fetures_df.withColumn(\"Week\",all_fetures_df.Week.cast(IntegerType()))\n",
        "#all_fetures_df=all_fetures_df.withColumn(\"WeekOfYear\",all_fetures_df.WeekOfYear.cast(IntegerType()))\n",
        "#all_fetures_df=all_fetures_df.withColumn(\"yearday\",all_fetures_df.yearday.cast(IntegerType()))\n",
        "#all_fetures_df=all_fetures_df.withColumn(\"dayofmonth\",all_fetures_df.dayofmonth.cast(IntegerType()))\n",
        "#all_fetures_df=all_fetures_df.withColumn(\"dayofweek\",all_fetures_df.dayofweek.cast(IntegerType()))\n",
        "#all_fetures_df=all_fetures_df.withColumn(\"hour\",all_fetures_df.hour.cast(IntegerType()))\n",
        "\n",
        "all_fetures_df=all_fetures_df.sort([\"YEAR\", \"QUARTER\",\"Month\",\"WeekOfYear\",\"yearday\", \"dayofmonth\",\"dayofweek\",\"hour\"],ascending=True)\n",
        "all_fetures_df.show()"
      ],
      "metadata": {
        "colab": {
          "base_uri": "https://localhost:8080/"
        },
        "id": "RhXIlgS9bLqn",
        "outputId": "52179e35-6ad1-4b9f-b065-b692d6e5bac5"
      },
      "execution_count": 8,
      "outputs": [
        {
          "output_type": "stream",
          "name": "stdout",
          "text": [
            "root\n",
            " |-- YEAR: integer (nullable = true)\n",
            " |-- QUARTER: integer (nullable = true)\n",
            " |-- Month: integer (nullable = true)\n",
            " |-- Week: timestamp (nullable = true)\n",
            " |-- WeekOfYear: integer (nullable = true)\n",
            " |-- yearday: integer (nullable = true)\n",
            " |-- dayofmonth: integer (nullable = true)\n",
            " |-- dayofweek: integer (nullable = true)\n",
            " |-- hour: integer (nullable = true)\n",
            " |-- count(id): long (nullable = false)\n",
            "\n",
            "+----+-------+-----+-------------------+----------+-------+----------+---------+----+---------+\n",
            "|YEAR|QUARTER|Month|               Week|WeekOfYear|yearday|dayofmonth|dayofweek|hour|count(id)|\n",
            "+----+-------+-----+-------------------+----------+-------+----------+---------+----+---------+\n",
            "|2014|      2|    4|2014-03-31 00:00:00|        14|     91|         1|        3|   0|      138|\n",
            "|2014|      2|    4|2014-03-31 00:00:00|        14|     91|         1|        3|   1|       66|\n",
            "|2014|      2|    4|2014-03-31 00:00:00|        14|     91|         1|        3|   2|       53|\n",
            "|2014|      2|    4|2014-03-31 00:00:00|        14|     91|         1|        3|   3|       93|\n",
            "|2014|      2|    4|2014-03-31 00:00:00|        14|     91|         1|        3|   4|      166|\n",
            "|2014|      2|    4|2014-03-31 00:00:00|        14|     91|         1|        3|   5|      333|\n",
            "|2014|      2|    4|2014-03-31 00:00:00|        14|     91|         1|        3|   6|      722|\n",
            "|2014|      2|    4|2014-03-31 00:00:00|        14|     91|         1|        3|   7|     1001|\n",
            "|2014|      2|    4|2014-03-31 00:00:00|        14|     91|         1|        3|   8|      780|\n",
            "|2014|      2|    4|2014-03-31 00:00:00|        14|     91|         1|        3|   9|      532|\n",
            "|2014|      2|    4|2014-03-31 00:00:00|        14|     91|         1|        3|  10|      477|\n",
            "|2014|      2|    4|2014-03-31 00:00:00|        14|     91|         1|        3|  11|      547|\n",
            "|2014|      2|    4|2014-03-31 00:00:00|        14|     91|         1|        3|  12|      469|\n",
            "|2014|      2|    4|2014-03-31 00:00:00|        14|     91|         1|        3|  13|      591|\n",
            "|2014|      2|    4|2014-03-31 00:00:00|        14|     91|         1|        3|  14|      736|\n",
            "|2014|      2|    4|2014-03-31 00:00:00|        14|     91|         1|        3|  15|      967|\n",
            "|2014|      2|    4|2014-03-31 00:00:00|        14|     91|         1|        3|  16|     1152|\n",
            "|2014|      2|    4|2014-03-31 00:00:00|        14|     91|         1|        3|  17|     1262|\n",
            "|2014|      2|    4|2014-03-31 00:00:00|        14|     91|         1|        3|  18|     1122|\n",
            "|2014|      2|    4|2014-03-31 00:00:00|        14|     91|         1|        3|  19|     1018|\n",
            "+----+-------+-----+-------------------+----------+-------+----------+---------+----+---------+\n",
            "only showing top 20 rows\n",
            "\n"
          ]
        }
      ]
    },
    {
      "cell_type": "code",
      "source": [
        "from pyspark.ml.feature import VectorAssembler\n",
        "all_features=['YEAR','QUARTER','Month','WeekOfYear','yearday','dayofmonth','dayofweek','hour']"
      ],
      "metadata": {
        "id": "RrIlrict5hQc"
      },
      "execution_count": 9,
      "outputs": []
    },
    {
      "cell_type": "code",
      "source": [
        "from pyspark.ml.feature import VectorAssembler\n",
        "all_features=['YEAR','QUARTER','Month','WeekOfYear','yearday','dayofmonth','dayofweek','hour']\n",
        "all_features_assembler = VectorAssembler(inputCols=all_features, outputCol='AllFeatures')\n",
        "af_transformed_dataset = all_features_assembler.transform(all_fetures_df)\n",
        "af_transformed_dataset.show(truncate=False)"
      ],
      "metadata": {
        "colab": {
          "base_uri": "https://localhost:8080/"
        },
        "id": "eKLFJNickFAR",
        "outputId": "403ca377-664f-4729-f6ec-45117d48cdea"
      },
      "execution_count": 10,
      "outputs": [
        {
          "output_type": "stream",
          "name": "stdout",
          "text": [
            "+----+-------+-----+-------------------+----------+-------+----------+---------+----+---------+---------------------------------------+\n",
            "|YEAR|QUARTER|Month|Week               |WeekOfYear|yearday|dayofmonth|dayofweek|hour|count(id)|AllFeatures                            |\n",
            "+----+-------+-----+-------------------+----------+-------+----------+---------+----+---------+---------------------------------------+\n",
            "|2014|2      |4    |2014-03-31 00:00:00|14        |91     |1         |3        |0   |138      |[2014.0,2.0,4.0,14.0,91.0,1.0,3.0,0.0] |\n",
            "|2014|2      |4    |2014-03-31 00:00:00|14        |91     |1         |3        |1   |66       |[2014.0,2.0,4.0,14.0,91.0,1.0,3.0,1.0] |\n",
            "|2014|2      |4    |2014-03-31 00:00:00|14        |91     |1         |3        |2   |53       |[2014.0,2.0,4.0,14.0,91.0,1.0,3.0,2.0] |\n",
            "|2014|2      |4    |2014-03-31 00:00:00|14        |91     |1         |3        |3   |93       |[2014.0,2.0,4.0,14.0,91.0,1.0,3.0,3.0] |\n",
            "|2014|2      |4    |2014-03-31 00:00:00|14        |91     |1         |3        |4   |166      |[2014.0,2.0,4.0,14.0,91.0,1.0,3.0,4.0] |\n",
            "|2014|2      |4    |2014-03-31 00:00:00|14        |91     |1         |3        |5   |333      |[2014.0,2.0,4.0,14.0,91.0,1.0,3.0,5.0] |\n",
            "|2014|2      |4    |2014-03-31 00:00:00|14        |91     |1         |3        |6   |722      |[2014.0,2.0,4.0,14.0,91.0,1.0,3.0,6.0] |\n",
            "|2014|2      |4    |2014-03-31 00:00:00|14        |91     |1         |3        |7   |1001     |[2014.0,2.0,4.0,14.0,91.0,1.0,3.0,7.0] |\n",
            "|2014|2      |4    |2014-03-31 00:00:00|14        |91     |1         |3        |8   |780      |[2014.0,2.0,4.0,14.0,91.0,1.0,3.0,8.0] |\n",
            "|2014|2      |4    |2014-03-31 00:00:00|14        |91     |1         |3        |9   |532      |[2014.0,2.0,4.0,14.0,91.0,1.0,3.0,9.0] |\n",
            "|2014|2      |4    |2014-03-31 00:00:00|14        |91     |1         |3        |10  |477      |[2014.0,2.0,4.0,14.0,91.0,1.0,3.0,10.0]|\n",
            "|2014|2      |4    |2014-03-31 00:00:00|14        |91     |1         |3        |11  |547      |[2014.0,2.0,4.0,14.0,91.0,1.0,3.0,11.0]|\n",
            "|2014|2      |4    |2014-03-31 00:00:00|14        |91     |1         |3        |12  |469      |[2014.0,2.0,4.0,14.0,91.0,1.0,3.0,12.0]|\n",
            "|2014|2      |4    |2014-03-31 00:00:00|14        |91     |1         |3        |13  |591      |[2014.0,2.0,4.0,14.0,91.0,1.0,3.0,13.0]|\n",
            "|2014|2      |4    |2014-03-31 00:00:00|14        |91     |1         |3        |14  |736      |[2014.0,2.0,4.0,14.0,91.0,1.0,3.0,14.0]|\n",
            "|2014|2      |4    |2014-03-31 00:00:00|14        |91     |1         |3        |15  |967      |[2014.0,2.0,4.0,14.0,91.0,1.0,3.0,15.0]|\n",
            "|2014|2      |4    |2014-03-31 00:00:00|14        |91     |1         |3        |16  |1152     |[2014.0,2.0,4.0,14.0,91.0,1.0,3.0,16.0]|\n",
            "|2014|2      |4    |2014-03-31 00:00:00|14        |91     |1         |3        |17  |1262     |[2014.0,2.0,4.0,14.0,91.0,1.0,3.0,17.0]|\n",
            "|2014|2      |4    |2014-03-31 00:00:00|14        |91     |1         |3        |18  |1122     |[2014.0,2.0,4.0,14.0,91.0,1.0,3.0,18.0]|\n",
            "|2014|2      |4    |2014-03-31 00:00:00|14        |91     |1         |3        |19  |1018     |[2014.0,2.0,4.0,14.0,91.0,1.0,3.0,19.0]|\n",
            "+----+-------+-----+-------------------+----------+-------+----------+---------+----+---------+---------------------------------------+\n",
            "only showing top 20 rows\n",
            "\n"
          ]
        }
      ]
    },
    {
      "cell_type": "code",
      "source": [
        "af_transformed_dataset.select('YEAR').distinct().collect()"
      ],
      "metadata": {
        "colab": {
          "base_uri": "https://localhost:8080/"
        },
        "id": "al8hPoq3mFBD",
        "outputId": "2c614d7e-3e1f-4c70-dd4a-bcf0199e997d"
      },
      "execution_count": null,
      "outputs": [
        {
          "output_type": "execute_result",
          "data": {
            "text/plain": [
              "[Row(YEAR=2014)]"
            ]
          },
          "metadata": {},
          "execution_count": 49
        }
      ]
    },
    {
      "cell_type": "code",
      "source": [
        "af_transformed_dataset.select('Month').distinct().collect()"
      ],
      "metadata": {
        "colab": {
          "base_uri": "https://localhost:8080/"
        },
        "id": "nPrJ2csXmnWZ",
        "outputId": "69983716-7a77-4c13-d447-ab8c1a32bed0"
      },
      "execution_count": null,
      "outputs": [
        {
          "output_type": "execute_result",
          "data": {
            "text/plain": [
              "[Row(Month=6),\n",
              " Row(Month=5),\n",
              " Row(Month=9),\n",
              " Row(Month=4),\n",
              " Row(Month=8),\n",
              " Row(Month=7)]"
            ]
          },
          "metadata": {},
          "execution_count": 50
        }
      ]
    },
    {
      "cell_type": "code",
      "source": [
        "af_transformed_dataset.groupBy(\"Month\").agg(count(\"yearday\")).show()\n"
      ],
      "metadata": {
        "colab": {
          "base_uri": "https://localhost:8080/"
        },
        "id": "W2z8b989nOYv",
        "outputId": "c99fea22-d4db-4c6f-ba1f-739fd7d00c4f"
      },
      "execution_count": null,
      "outputs": [
        {
          "output_type": "stream",
          "name": "stdout",
          "text": [
            "+-----+--------------+\n",
            "|Month|count(yearday)|\n",
            "+-----+--------------+\n",
            "|    6|           720|\n",
            "|    5|           744|\n",
            "|    9|           719|\n",
            "|    4|           720|\n",
            "|    8|           744|\n",
            "|    7|           744|\n",
            "+-----+--------------+\n",
            "\n"
          ]
        }
      ]
    },
    {
      "cell_type": "code",
      "source": [
        "af_transformed_dataset=af_transformed_dataset.withColumnRenamed(\"count(id)\",\"label\")\n",
        "af_train_dataset = af_transformed_dataset.filter(F.col('Month')!=9)\n",
        "af_test_dataset = af_transformed_dataset.filter(F.col('Month')==9)"
      ],
      "metadata": {
        "id": "MEQ980DsoSlu"
      },
      "execution_count": 11,
      "outputs": []
    },
    {
      "cell_type": "code",
      "source": [
        "from pyspark.ml.classification import LogisticRegression\n",
        "\n",
        "print('Training Dataset Count: ' , af_train_dataset.count())\n",
        "print('Training Dataset Count: ' , af_test_dataset.count())\n",
        "\n",
        "logreg1=LogisticRegression(featuresCol='AllFeatures',labelCol='label',maxIter=10)\n",
        "learningModel1=logreg1.fit(af_train_dataset)\n",
        "Predictions1=learningModel1.transform(af_test_dataset)\n",
        "Predictions1.show()"
      ],
      "metadata": {
        "colab": {
          "base_uri": "https://localhost:8080/"
        },
        "id": "WYXdWf1WpImD",
        "outputId": "0677365b-8297-455e-ab57-a87bd3ae20a5"
      },
      "execution_count": 13,
      "outputs": [
        {
          "output_type": "stream",
          "name": "stdout",
          "text": [
            "Training Dataset Count:  3672\n",
            "Training Dataset Count:  719\n",
            "+----+-------+-----+-------------------+----------+-------+----------+---------+----+-----+--------------------+--------------------+--------------------+----------+\n",
            "|YEAR|QUARTER|Month|               Week|WeekOfYear|yearday|dayofmonth|dayofweek|hour|label|         AllFeatures|       rawPrediction|         probability|prediction|\n",
            "+----+-------+-----+-------------------+----------+-------+----------+---------+----+-----+--------------------+--------------------+--------------------+----------+\n",
            "|2014|      3|    9|2014-09-01 00:00:00|        36|    244|         1|        2|   0|  699|[2014.0,3.0,9.0,3...|[-1.0317642486842...|[8.10377653740482...|    1109.0|\n",
            "|2014|      3|    9|2014-09-01 00:00:00|        36|    244|         1|        2|   1|  490|[2014.0,3.0,9.0,3...|[-1.0334397809969...|[1.08001839949463...|    1109.0|\n",
            "|2014|      3|    9|2014-09-01 00:00:00|        36|    244|         1|        2|   2|  363|[2014.0,3.0,9.0,3...|[-1.0351153133096...|[1.38779001833650...|    1109.0|\n",
            "|2014|      3|    9|2014-09-01 00:00:00|        36|    244|         1|        2|   3|  333|[2014.0,3.0,9.0,3...|[-1.0367908456222...|[1.71995677732528...|    1109.0|\n",
            "|2014|      3|    9|2014-09-01 00:00:00|        36|    244|         1|        2|   4|  261|[2014.0,3.0,9.0,3...|[-1.0384663779349...|[2.05838939333197...|    1109.0|\n",
            "|2014|      3|    9|2014-09-01 00:00:00|        36|    244|         1|        2|   5|  283|[2014.0,3.0,9.0,3...|[-1.0401419102476...|[2.38296931134553...|    1109.0|\n",
            "|2014|      3|    9|2014-09-01 00:00:00|        36|    244|         1|        2|   6|  330|[2014.0,3.0,9.0,3...|[-1.0418174425603...|[2.67409254314125...|    1109.0|\n",
            "|2014|      3|    9|2014-09-01 00:00:00|        36|    244|         1|        2|   7|  427|[2014.0,3.0,9.0,3...|[-1.0434929748730...|[2.91474733070410...|    1109.0|\n",
            "|2014|      3|    9|2014-09-01 00:00:00|        36|    244|         1|        2|   8|  560|[2014.0,3.0,9.0,3...|[-1.0451685071856...|[3.09196940235477...|    1109.0|\n",
            "|2014|      3|    9|2014-09-01 00:00:00|        36|    244|         1|        2|   9|  765|[2014.0,3.0,9.0,3...|[-1.0468440394983...|[3.19769725638746...|    1109.0|\n",
            "|2014|      3|    9|2014-09-01 00:00:00|        36|    244|         1|        2|  10|  874|[2014.0,3.0,9.0,3...|[-1.0485195718110...|[3.22910138753811...|    1109.0|\n",
            "|2014|      3|    9|2014-09-01 00:00:00|        36|    244|         1|        2|  11|  988|[2014.0,3.0,9.0,3...|[-1.0501951041237...|[3.18842988755792...|    1109.0|\n",
            "|2014|      3|    9|2014-09-01 00:00:00|        36|    244|         1|        2|  12| 1021|[2014.0,3.0,9.0,3...|[-1.0518706364363...|[3.08239673919119...|    1109.0|\n",
            "|2014|      3|    9|2014-09-01 00:00:00|        36|    244|         1|        2|  13| 1125|[2014.0,3.0,9.0,3...|[-1.0535461687490...|[2.92117682005623...|    1109.0|\n",
            "|2014|      3|    9|2014-09-01 00:00:00|        36|    244|         1|        2|  14| 1222|[2014.0,3.0,9.0,3...|[-1.0552217010617...|[2.71714086156156...|    1109.0|\n",
            "|2014|      3|    9|2014-09-01 00:00:00|        36|    244|         1|        2|  15| 1345|[2014.0,3.0,9.0,3...|[-1.0568972333744...|[2.48351788179786...|    1109.0|\n",
            "|2014|      3|    9|2014-09-01 00:00:00|        36|    244|         1|        2|  16| 1473|[2014.0,3.0,9.0,3...|[-1.0585727656871...|[2.23317838783141...|    1109.0|\n",
            "|2014|      3|    9|2014-09-01 00:00:00|        36|    244|         1|        2|  17| 1341|[2014.0,3.0,9.0,3...|[-1.0602482979997...|[1.97768571952575...|     953.0|\n",
            "|2014|      3|    9|2014-09-01 00:00:00|        36|    244|         1|        2|  18| 1248|[2014.0,3.0,9.0,3...|[-1.0619238303124...|[1.72668722396383...|     953.0|\n",
            "|2014|      3|    9|2014-09-01 00:00:00|        36|    244|         1|        2|  19| 1251|[2014.0,3.0,9.0,3...|[-1.0635993626251...|[1.48764119072997...|     953.0|\n",
            "+----+-------+-----+-------------------+----------+-------+----------+---------+----+-----+--------------------+--------------------+--------------------+----------+\n",
            "only showing top 20 rows\n",
            "\n"
          ]
        }
      ]
    },
    {
      "cell_type": "code",
      "source": [
        "from pyspark.ml.evaluation import RegressionEvaluator\n",
        "logreg_evaluator1 = RegressionEvaluator(predictionCol=\"prediction\", \\\n",
        "                 labelCol=\"label\",metricName=\"r2\")\n",
        "logreg_evaluator1.evaluate(Predictions1)\n",
        "#print(\"MSE: \", learningModel1.summary.meanSquaredError)\n",
        "#print(\"MAE: \", learningModel1.summary.meanAbsoluteError)\n",
        "print(\"weightedFMeasure: \", learningModel1.summary.weightedFMeasure)"
      ],
      "metadata": {
        "colab": {
          "base_uri": "https://localhost:8080/"
        },
        "id": "zblr8NrYtQOH",
        "outputId": "5ac88cd9-9cc7-4469-a907-68abca230c68"
      },
      "execution_count": null,
      "outputs": [
        {
          "output_type": "stream",
          "name": "stdout",
          "text": [
            "weightedFMeasure:  <bound method _ClassificationSummary.weightedFMeasure of <pyspark.ml.classification.LogisticRegressionTrainingSummary object at 0x7ffa64285cd0>>\n"
          ]
        }
      ]
    },
    {
      "cell_type": "code",
      "source": [
        "mae=(Predictions1.select(abs(Predictions1['prediction'] - Predictions1['label']))).agg(avg(col(\"abs((prediction - label))\"))).show()\n",
        "print(\"MAE: \",mae)"
      ],
      "metadata": {
        "colab": {
          "base_uri": "https://localhost:8080/"
        },
        "id": "mXQ8U5yUKQPl",
        "outputId": "b2eb2dd2-f84f-4787-8ab7-c77171c55b97"
      },
      "execution_count": 14,
      "outputs": [
        {
          "output_type": "stream",
          "name": "stdout",
          "text": [
            "+------------------------------+\n",
            "|avg(abs((prediction - label)))|\n",
            "+------------------------------+\n",
            "|             676.5368567454798|\n",
            "+------------------------------+\n",
            "\n",
            "MAE:  None\n"
          ]
        }
      ]
    },
    {
      "cell_type": "code",
      "source": [
        "from pyspark.ml.feature import OneHotEncoder\n",
        "#encoded_af_dataset=encoded_af_dataset.drop(outCol)\n",
        "encoded_af_dataset = OneHotEncoder(inputCol='YEAR',outputCol='YEAREncoded',handleInvalid='keep').fit(all_fetures_df).transform(all_fetures_df)\n",
        "encoded_af_dataset = OneHotEncoder(inputCol='QUARTER',outputCol='QUARTEREncoded',handleInvalid='keep').fit(encoded_af_dataset).transform(encoded_af_dataset)\n",
        "encoded_af_dataset = OneHotEncoder(inputCol='Month',outputCol='MonthEncoded',handleInvalid='keep').fit(encoded_af_dataset).transform(encoded_af_dataset)\n",
        "encoded_af_dataset = OneHotEncoder(inputCol='WeekOfYear',outputCol='WeekOfYearEncoded',handleInvalid='keep').fit(encoded_af_dataset).transform(encoded_af_dataset)\n",
        "encoded_af_dataset = OneHotEncoder(inputCol='yearday',outputCol='yeardayEncoded',handleInvalid='keep').fit(encoded_af_dataset).transform(encoded_af_dataset)\n",
        "encoded_af_dataset = OneHotEncoder(inputCol='dayofmonth',outputCol='dayofmonthEncoded',handleInvalid='keep').fit(encoded_af_dataset).transform(encoded_af_dataset)\n",
        "encoded_af_dataset = OneHotEncoder(inputCol='dayofweek',outputCol='dayofweekEncoded',handleInvalid='keep').fit(encoded_af_dataset).transform(encoded_af_dataset)\n",
        "encoded_af_dataset = OneHotEncoder(inputCol='hour',outputCol='hourEncoded',handleInvalid='keep').fit(encoded_af_dataset).transform(encoded_af_dataset)\n",
        "\n",
        "all_features=['YEAR','QUARTER','Month','WeekOfYear','yearday','dayofmonth','dayofweek','hour']\n",
        "\n",
        "encoded_af_dataset.show()"
      ],
      "metadata": {
        "colab": {
          "base_uri": "https://localhost:8080/"
        },
        "id": "uBryDSlUU9R3",
        "outputId": "540632e6-4627-4409-a536-0bfde9d6209e"
      },
      "execution_count": 10,
      "outputs": [
        {
          "output_type": "stream",
          "name": "stdout",
          "text": [
            "+----+-------+-----+-------------------+----------+-------+----------+---------+----+---------+-------------------+--------------+--------------+-----------------+----------------+-----------------+----------------+---------------+\n",
            "|YEAR|QUARTER|Month|               Week|WeekOfYear|yearday|dayofmonth|dayofweek|hour|count(id)|        YEAREncoded|QUARTEREncoded|  MonthEncoded|WeekOfYearEncoded|  yeardayEncoded|dayofmonthEncoded|dayofweekEncoded|    hourEncoded|\n",
            "+----+-------+-----+-------------------+----------+-------+----------+---------+----+---------+-------------------+--------------+--------------+-----------------+----------------+-----------------+----------------+---------------+\n",
            "|2014|      2|    4|2014-03-31 00:00:00|        14|     91|         1|        3|   0|      138|(2015,[2014],[1.0])| (4,[2],[1.0])|(10,[4],[1.0])|  (41,[14],[1.0])|(274,[91],[1.0])|   (32,[1],[1.0])|   (8,[3],[1.0])| (24,[0],[1.0])|\n",
            "|2014|      2|    4|2014-03-31 00:00:00|        14|     91|         1|        3|   1|       66|(2015,[2014],[1.0])| (4,[2],[1.0])|(10,[4],[1.0])|  (41,[14],[1.0])|(274,[91],[1.0])|   (32,[1],[1.0])|   (8,[3],[1.0])| (24,[1],[1.0])|\n",
            "|2014|      2|    4|2014-03-31 00:00:00|        14|     91|         1|        3|   2|       53|(2015,[2014],[1.0])| (4,[2],[1.0])|(10,[4],[1.0])|  (41,[14],[1.0])|(274,[91],[1.0])|   (32,[1],[1.0])|   (8,[3],[1.0])| (24,[2],[1.0])|\n",
            "|2014|      2|    4|2014-03-31 00:00:00|        14|     91|         1|        3|   3|       93|(2015,[2014],[1.0])| (4,[2],[1.0])|(10,[4],[1.0])|  (41,[14],[1.0])|(274,[91],[1.0])|   (32,[1],[1.0])|   (8,[3],[1.0])| (24,[3],[1.0])|\n",
            "|2014|      2|    4|2014-03-31 00:00:00|        14|     91|         1|        3|   4|      166|(2015,[2014],[1.0])| (4,[2],[1.0])|(10,[4],[1.0])|  (41,[14],[1.0])|(274,[91],[1.0])|   (32,[1],[1.0])|   (8,[3],[1.0])| (24,[4],[1.0])|\n",
            "|2014|      2|    4|2014-03-31 00:00:00|        14|     91|         1|        3|   5|      333|(2015,[2014],[1.0])| (4,[2],[1.0])|(10,[4],[1.0])|  (41,[14],[1.0])|(274,[91],[1.0])|   (32,[1],[1.0])|   (8,[3],[1.0])| (24,[5],[1.0])|\n",
            "|2014|      2|    4|2014-03-31 00:00:00|        14|     91|         1|        3|   6|      722|(2015,[2014],[1.0])| (4,[2],[1.0])|(10,[4],[1.0])|  (41,[14],[1.0])|(274,[91],[1.0])|   (32,[1],[1.0])|   (8,[3],[1.0])| (24,[6],[1.0])|\n",
            "|2014|      2|    4|2014-03-31 00:00:00|        14|     91|         1|        3|   7|     1001|(2015,[2014],[1.0])| (4,[2],[1.0])|(10,[4],[1.0])|  (41,[14],[1.0])|(274,[91],[1.0])|   (32,[1],[1.0])|   (8,[3],[1.0])| (24,[7],[1.0])|\n",
            "|2014|      2|    4|2014-03-31 00:00:00|        14|     91|         1|        3|   8|      780|(2015,[2014],[1.0])| (4,[2],[1.0])|(10,[4],[1.0])|  (41,[14],[1.0])|(274,[91],[1.0])|   (32,[1],[1.0])|   (8,[3],[1.0])| (24,[8],[1.0])|\n",
            "|2014|      2|    4|2014-03-31 00:00:00|        14|     91|         1|        3|   9|      532|(2015,[2014],[1.0])| (4,[2],[1.0])|(10,[4],[1.0])|  (41,[14],[1.0])|(274,[91],[1.0])|   (32,[1],[1.0])|   (8,[3],[1.0])| (24,[9],[1.0])|\n",
            "|2014|      2|    4|2014-03-31 00:00:00|        14|     91|         1|        3|  10|      477|(2015,[2014],[1.0])| (4,[2],[1.0])|(10,[4],[1.0])|  (41,[14],[1.0])|(274,[91],[1.0])|   (32,[1],[1.0])|   (8,[3],[1.0])|(24,[10],[1.0])|\n",
            "|2014|      2|    4|2014-03-31 00:00:00|        14|     91|         1|        3|  11|      547|(2015,[2014],[1.0])| (4,[2],[1.0])|(10,[4],[1.0])|  (41,[14],[1.0])|(274,[91],[1.0])|   (32,[1],[1.0])|   (8,[3],[1.0])|(24,[11],[1.0])|\n",
            "|2014|      2|    4|2014-03-31 00:00:00|        14|     91|         1|        3|  12|      469|(2015,[2014],[1.0])| (4,[2],[1.0])|(10,[4],[1.0])|  (41,[14],[1.0])|(274,[91],[1.0])|   (32,[1],[1.0])|   (8,[3],[1.0])|(24,[12],[1.0])|\n",
            "|2014|      2|    4|2014-03-31 00:00:00|        14|     91|         1|        3|  13|      591|(2015,[2014],[1.0])| (4,[2],[1.0])|(10,[4],[1.0])|  (41,[14],[1.0])|(274,[91],[1.0])|   (32,[1],[1.0])|   (8,[3],[1.0])|(24,[13],[1.0])|\n",
            "|2014|      2|    4|2014-03-31 00:00:00|        14|     91|         1|        3|  14|      736|(2015,[2014],[1.0])| (4,[2],[1.0])|(10,[4],[1.0])|  (41,[14],[1.0])|(274,[91],[1.0])|   (32,[1],[1.0])|   (8,[3],[1.0])|(24,[14],[1.0])|\n",
            "|2014|      2|    4|2014-03-31 00:00:00|        14|     91|         1|        3|  15|      967|(2015,[2014],[1.0])| (4,[2],[1.0])|(10,[4],[1.0])|  (41,[14],[1.0])|(274,[91],[1.0])|   (32,[1],[1.0])|   (8,[3],[1.0])|(24,[15],[1.0])|\n",
            "|2014|      2|    4|2014-03-31 00:00:00|        14|     91|         1|        3|  16|     1152|(2015,[2014],[1.0])| (4,[2],[1.0])|(10,[4],[1.0])|  (41,[14],[1.0])|(274,[91],[1.0])|   (32,[1],[1.0])|   (8,[3],[1.0])|(24,[16],[1.0])|\n",
            "|2014|      2|    4|2014-03-31 00:00:00|        14|     91|         1|        3|  17|     1262|(2015,[2014],[1.0])| (4,[2],[1.0])|(10,[4],[1.0])|  (41,[14],[1.0])|(274,[91],[1.0])|   (32,[1],[1.0])|   (8,[3],[1.0])|(24,[17],[1.0])|\n",
            "|2014|      2|    4|2014-03-31 00:00:00|        14|     91|         1|        3|  18|     1122|(2015,[2014],[1.0])| (4,[2],[1.0])|(10,[4],[1.0])|  (41,[14],[1.0])|(274,[91],[1.0])|   (32,[1],[1.0])|   (8,[3],[1.0])|(24,[18],[1.0])|\n",
            "|2014|      2|    4|2014-03-31 00:00:00|        14|     91|         1|        3|  19|     1018|(2015,[2014],[1.0])| (4,[2],[1.0])|(10,[4],[1.0])|  (41,[14],[1.0])|(274,[91],[1.0])|   (32,[1],[1.0])|   (8,[3],[1.0])|(24,[19],[1.0])|\n",
            "+----+-------+-----+-------------------+----------+-------+----------+---------+----+---------+-------------------+--------------+--------------+-----------------+----------------+-----------------+----------------+---------------+\n",
            "only showing top 20 rows\n",
            "\n"
          ]
        }
      ]
    },
    {
      "cell_type": "code",
      "source": [
        "for col in all_features:\n",
        "  encoded_af_dataset=encoded_af_dataset.drop(col)\n",
        "encoded_af_dataset=encoded_af_dataset.drop(\"Week\")"
      ],
      "metadata": {
        "id": "tnNcOoD7uE9s"
      },
      "execution_count": 11,
      "outputs": []
    },
    {
      "cell_type": "code",
      "source": [
        "all_efeatures=['YEAREncoded','QUARTEREncoded','MonthEncoded','WeekOfYearEncoded','yeardayEncoded','dayofmonthEncoded','dayofweekEncoded','hourEncoded']\n",
        "all_efeatures_assembler = VectorAssembler(inputCols=all_efeatures, outputCol='AllEFeatures')\n",
        "eaf_transformed_dataset = all_efeatures_assembler.transform(encoded_af_dataset)\n",
        "eaf_transformed_dataset.show(truncate=False)"
      ],
      "metadata": {
        "colab": {
          "base_uri": "https://localhost:8080/"
        },
        "id": "J4I3SFunuY0b",
        "outputId": "13c6b8f6-8463-4d24-9ff0-72cc14c98b68"
      },
      "execution_count": 12,
      "outputs": [
        {
          "output_type": "stream",
          "name": "stdout",
          "text": [
            "+---------+-------------------+--------------+--------------+-----------------+----------------+-----------------+----------------+---------------+----------------------------------------------------------------------------------+\n",
            "|count(id)|YEAREncoded        |QUARTEREncoded|MonthEncoded  |WeekOfYearEncoded|yeardayEncoded  |dayofmonthEncoded|dayofweekEncoded|hourEncoded    |AllEFeatures                                                                      |\n",
            "+---------+-------------------+--------------+--------------+-----------------+----------------+-----------------+----------------+---------------+----------------------------------------------------------------------------------+\n",
            "|138      |(2015,[2014],[1.0])|(4,[2],[1.0]) |(10,[4],[1.0])|(41,[14],[1.0])  |(274,[91],[1.0])|(32,[1],[1.0])   |(8,[3],[1.0])   |(24,[0],[1.0]) |(2408,[2014,2017,2023,2043,2161,2345,2379,2384],[1.0,1.0,1.0,1.0,1.0,1.0,1.0,1.0])|\n",
            "|66       |(2015,[2014],[1.0])|(4,[2],[1.0]) |(10,[4],[1.0])|(41,[14],[1.0])  |(274,[91],[1.0])|(32,[1],[1.0])   |(8,[3],[1.0])   |(24,[1],[1.0]) |(2408,[2014,2017,2023,2043,2161,2345,2379,2385],[1.0,1.0,1.0,1.0,1.0,1.0,1.0,1.0])|\n",
            "|53       |(2015,[2014],[1.0])|(4,[2],[1.0]) |(10,[4],[1.0])|(41,[14],[1.0])  |(274,[91],[1.0])|(32,[1],[1.0])   |(8,[3],[1.0])   |(24,[2],[1.0]) |(2408,[2014,2017,2023,2043,2161,2345,2379,2386],[1.0,1.0,1.0,1.0,1.0,1.0,1.0,1.0])|\n",
            "|93       |(2015,[2014],[1.0])|(4,[2],[1.0]) |(10,[4],[1.0])|(41,[14],[1.0])  |(274,[91],[1.0])|(32,[1],[1.0])   |(8,[3],[1.0])   |(24,[3],[1.0]) |(2408,[2014,2017,2023,2043,2161,2345,2379,2387],[1.0,1.0,1.0,1.0,1.0,1.0,1.0,1.0])|\n",
            "|166      |(2015,[2014],[1.0])|(4,[2],[1.0]) |(10,[4],[1.0])|(41,[14],[1.0])  |(274,[91],[1.0])|(32,[1],[1.0])   |(8,[3],[1.0])   |(24,[4],[1.0]) |(2408,[2014,2017,2023,2043,2161,2345,2379,2388],[1.0,1.0,1.0,1.0,1.0,1.0,1.0,1.0])|\n",
            "|333      |(2015,[2014],[1.0])|(4,[2],[1.0]) |(10,[4],[1.0])|(41,[14],[1.0])  |(274,[91],[1.0])|(32,[1],[1.0])   |(8,[3],[1.0])   |(24,[5],[1.0]) |(2408,[2014,2017,2023,2043,2161,2345,2379,2389],[1.0,1.0,1.0,1.0,1.0,1.0,1.0,1.0])|\n",
            "|722      |(2015,[2014],[1.0])|(4,[2],[1.0]) |(10,[4],[1.0])|(41,[14],[1.0])  |(274,[91],[1.0])|(32,[1],[1.0])   |(8,[3],[1.0])   |(24,[6],[1.0]) |(2408,[2014,2017,2023,2043,2161,2345,2379,2390],[1.0,1.0,1.0,1.0,1.0,1.0,1.0,1.0])|\n",
            "|1001     |(2015,[2014],[1.0])|(4,[2],[1.0]) |(10,[4],[1.0])|(41,[14],[1.0])  |(274,[91],[1.0])|(32,[1],[1.0])   |(8,[3],[1.0])   |(24,[7],[1.0]) |(2408,[2014,2017,2023,2043,2161,2345,2379,2391],[1.0,1.0,1.0,1.0,1.0,1.0,1.0,1.0])|\n",
            "|780      |(2015,[2014],[1.0])|(4,[2],[1.0]) |(10,[4],[1.0])|(41,[14],[1.0])  |(274,[91],[1.0])|(32,[1],[1.0])   |(8,[3],[1.0])   |(24,[8],[1.0]) |(2408,[2014,2017,2023,2043,2161,2345,2379,2392],[1.0,1.0,1.0,1.0,1.0,1.0,1.0,1.0])|\n",
            "|532      |(2015,[2014],[1.0])|(4,[2],[1.0]) |(10,[4],[1.0])|(41,[14],[1.0])  |(274,[91],[1.0])|(32,[1],[1.0])   |(8,[3],[1.0])   |(24,[9],[1.0]) |(2408,[2014,2017,2023,2043,2161,2345,2379,2393],[1.0,1.0,1.0,1.0,1.0,1.0,1.0,1.0])|\n",
            "|477      |(2015,[2014],[1.0])|(4,[2],[1.0]) |(10,[4],[1.0])|(41,[14],[1.0])  |(274,[91],[1.0])|(32,[1],[1.0])   |(8,[3],[1.0])   |(24,[10],[1.0])|(2408,[2014,2017,2023,2043,2161,2345,2379,2394],[1.0,1.0,1.0,1.0,1.0,1.0,1.0,1.0])|\n",
            "|547      |(2015,[2014],[1.0])|(4,[2],[1.0]) |(10,[4],[1.0])|(41,[14],[1.0])  |(274,[91],[1.0])|(32,[1],[1.0])   |(8,[3],[1.0])   |(24,[11],[1.0])|(2408,[2014,2017,2023,2043,2161,2345,2379,2395],[1.0,1.0,1.0,1.0,1.0,1.0,1.0,1.0])|\n",
            "|469      |(2015,[2014],[1.0])|(4,[2],[1.0]) |(10,[4],[1.0])|(41,[14],[1.0])  |(274,[91],[1.0])|(32,[1],[1.0])   |(8,[3],[1.0])   |(24,[12],[1.0])|(2408,[2014,2017,2023,2043,2161,2345,2379,2396],[1.0,1.0,1.0,1.0,1.0,1.0,1.0,1.0])|\n",
            "|591      |(2015,[2014],[1.0])|(4,[2],[1.0]) |(10,[4],[1.0])|(41,[14],[1.0])  |(274,[91],[1.0])|(32,[1],[1.0])   |(8,[3],[1.0])   |(24,[13],[1.0])|(2408,[2014,2017,2023,2043,2161,2345,2379,2397],[1.0,1.0,1.0,1.0,1.0,1.0,1.0,1.0])|\n",
            "|736      |(2015,[2014],[1.0])|(4,[2],[1.0]) |(10,[4],[1.0])|(41,[14],[1.0])  |(274,[91],[1.0])|(32,[1],[1.0])   |(8,[3],[1.0])   |(24,[14],[1.0])|(2408,[2014,2017,2023,2043,2161,2345,2379,2398],[1.0,1.0,1.0,1.0,1.0,1.0,1.0,1.0])|\n",
            "|967      |(2015,[2014],[1.0])|(4,[2],[1.0]) |(10,[4],[1.0])|(41,[14],[1.0])  |(274,[91],[1.0])|(32,[1],[1.0])   |(8,[3],[1.0])   |(24,[15],[1.0])|(2408,[2014,2017,2023,2043,2161,2345,2379,2399],[1.0,1.0,1.0,1.0,1.0,1.0,1.0,1.0])|\n",
            "|1152     |(2015,[2014],[1.0])|(4,[2],[1.0]) |(10,[4],[1.0])|(41,[14],[1.0])  |(274,[91],[1.0])|(32,[1],[1.0])   |(8,[3],[1.0])   |(24,[16],[1.0])|(2408,[2014,2017,2023,2043,2161,2345,2379,2400],[1.0,1.0,1.0,1.0,1.0,1.0,1.0,1.0])|\n",
            "|1262     |(2015,[2014],[1.0])|(4,[2],[1.0]) |(10,[4],[1.0])|(41,[14],[1.0])  |(274,[91],[1.0])|(32,[1],[1.0])   |(8,[3],[1.0])   |(24,[17],[1.0])|(2408,[2014,2017,2023,2043,2161,2345,2379,2401],[1.0,1.0,1.0,1.0,1.0,1.0,1.0,1.0])|\n",
            "|1122     |(2015,[2014],[1.0])|(4,[2],[1.0]) |(10,[4],[1.0])|(41,[14],[1.0])  |(274,[91],[1.0])|(32,[1],[1.0])   |(8,[3],[1.0])   |(24,[18],[1.0])|(2408,[2014,2017,2023,2043,2161,2345,2379,2402],[1.0,1.0,1.0,1.0,1.0,1.0,1.0,1.0])|\n",
            "|1018     |(2015,[2014],[1.0])|(4,[2],[1.0]) |(10,[4],[1.0])|(41,[14],[1.0])  |(274,[91],[1.0])|(32,[1],[1.0])   |(8,[3],[1.0])   |(24,[19],[1.0])|(2408,[2014,2017,2023,2043,2161,2345,2379,2403],[1.0,1.0,1.0,1.0,1.0,1.0,1.0,1.0])|\n",
            "+---------+-------------------+--------------+--------------+-----------------+----------------+-----------------+----------------+---------------+----------------------------------------------------------------------------------+\n",
            "only showing top 20 rows\n",
            "\n"
          ]
        }
      ]
    },
    {
      "cell_type": "code",
      "source": [
        "eaf_transformed_dataset=eaf_transformed_dataset.withColumnRenamed(\"count(id)\",\"label\")\n",
        "eaf_train_dataset = eaf_transformed_dataset.filter(F.col('Month')!=9)\n",
        "eaf_test_dataset = eaf_transformed_dataset.filter(F.col('Month')==9)\n",
        "eaf_train_dataset.show()\n",
        "eaf_test_dataset.show()"
      ],
      "metadata": {
        "colab": {
          "base_uri": "https://localhost:8080/"
        },
        "id": "43aOJ6pAwTaX",
        "outputId": "e9eafeab-7fb2-40a4-de8b-0ad4d1d96d15"
      },
      "execution_count": 13,
      "outputs": [
        {
          "output_type": "stream",
          "name": "stdout",
          "text": [
            "+-----+-------------------+--------------+--------------+-----------------+----------------+-----------------+----------------+---------------+--------------------+\n",
            "|label|        YEAREncoded|QUARTEREncoded|  MonthEncoded|WeekOfYearEncoded|  yeardayEncoded|dayofmonthEncoded|dayofweekEncoded|    hourEncoded|        AllEFeatures|\n",
            "+-----+-------------------+--------------+--------------+-----------------+----------------+-----------------+----------------+---------------+--------------------+\n",
            "|  138|(2015,[2014],[1.0])| (4,[2],[1.0])|(10,[4],[1.0])|  (41,[14],[1.0])|(274,[91],[1.0])|   (32,[1],[1.0])|   (8,[3],[1.0])| (24,[0],[1.0])|(2408,[2014,2017,...|\n",
            "|   66|(2015,[2014],[1.0])| (4,[2],[1.0])|(10,[4],[1.0])|  (41,[14],[1.0])|(274,[91],[1.0])|   (32,[1],[1.0])|   (8,[3],[1.0])| (24,[1],[1.0])|(2408,[2014,2017,...|\n",
            "|   53|(2015,[2014],[1.0])| (4,[2],[1.0])|(10,[4],[1.0])|  (41,[14],[1.0])|(274,[91],[1.0])|   (32,[1],[1.0])|   (8,[3],[1.0])| (24,[2],[1.0])|(2408,[2014,2017,...|\n",
            "|   93|(2015,[2014],[1.0])| (4,[2],[1.0])|(10,[4],[1.0])|  (41,[14],[1.0])|(274,[91],[1.0])|   (32,[1],[1.0])|   (8,[3],[1.0])| (24,[3],[1.0])|(2408,[2014,2017,...|\n",
            "|  166|(2015,[2014],[1.0])| (4,[2],[1.0])|(10,[4],[1.0])|  (41,[14],[1.0])|(274,[91],[1.0])|   (32,[1],[1.0])|   (8,[3],[1.0])| (24,[4],[1.0])|(2408,[2014,2017,...|\n",
            "|  333|(2015,[2014],[1.0])| (4,[2],[1.0])|(10,[4],[1.0])|  (41,[14],[1.0])|(274,[91],[1.0])|   (32,[1],[1.0])|   (8,[3],[1.0])| (24,[5],[1.0])|(2408,[2014,2017,...|\n",
            "|  722|(2015,[2014],[1.0])| (4,[2],[1.0])|(10,[4],[1.0])|  (41,[14],[1.0])|(274,[91],[1.0])|   (32,[1],[1.0])|   (8,[3],[1.0])| (24,[6],[1.0])|(2408,[2014,2017,...|\n",
            "| 1001|(2015,[2014],[1.0])| (4,[2],[1.0])|(10,[4],[1.0])|  (41,[14],[1.0])|(274,[91],[1.0])|   (32,[1],[1.0])|   (8,[3],[1.0])| (24,[7],[1.0])|(2408,[2014,2017,...|\n",
            "|  780|(2015,[2014],[1.0])| (4,[2],[1.0])|(10,[4],[1.0])|  (41,[14],[1.0])|(274,[91],[1.0])|   (32,[1],[1.0])|   (8,[3],[1.0])| (24,[8],[1.0])|(2408,[2014,2017,...|\n",
            "|  532|(2015,[2014],[1.0])| (4,[2],[1.0])|(10,[4],[1.0])|  (41,[14],[1.0])|(274,[91],[1.0])|   (32,[1],[1.0])|   (8,[3],[1.0])| (24,[9],[1.0])|(2408,[2014,2017,...|\n",
            "|  477|(2015,[2014],[1.0])| (4,[2],[1.0])|(10,[4],[1.0])|  (41,[14],[1.0])|(274,[91],[1.0])|   (32,[1],[1.0])|   (8,[3],[1.0])|(24,[10],[1.0])|(2408,[2014,2017,...|\n",
            "|  547|(2015,[2014],[1.0])| (4,[2],[1.0])|(10,[4],[1.0])|  (41,[14],[1.0])|(274,[91],[1.0])|   (32,[1],[1.0])|   (8,[3],[1.0])|(24,[11],[1.0])|(2408,[2014,2017,...|\n",
            "|  469|(2015,[2014],[1.0])| (4,[2],[1.0])|(10,[4],[1.0])|  (41,[14],[1.0])|(274,[91],[1.0])|   (32,[1],[1.0])|   (8,[3],[1.0])|(24,[12],[1.0])|(2408,[2014,2017,...|\n",
            "|  591|(2015,[2014],[1.0])| (4,[2],[1.0])|(10,[4],[1.0])|  (41,[14],[1.0])|(274,[91],[1.0])|   (32,[1],[1.0])|   (8,[3],[1.0])|(24,[13],[1.0])|(2408,[2014,2017,...|\n",
            "|  736|(2015,[2014],[1.0])| (4,[2],[1.0])|(10,[4],[1.0])|  (41,[14],[1.0])|(274,[91],[1.0])|   (32,[1],[1.0])|   (8,[3],[1.0])|(24,[14],[1.0])|(2408,[2014,2017,...|\n",
            "|  967|(2015,[2014],[1.0])| (4,[2],[1.0])|(10,[4],[1.0])|  (41,[14],[1.0])|(274,[91],[1.0])|   (32,[1],[1.0])|   (8,[3],[1.0])|(24,[15],[1.0])|(2408,[2014,2017,...|\n",
            "| 1152|(2015,[2014],[1.0])| (4,[2],[1.0])|(10,[4],[1.0])|  (41,[14],[1.0])|(274,[91],[1.0])|   (32,[1],[1.0])|   (8,[3],[1.0])|(24,[16],[1.0])|(2408,[2014,2017,...|\n",
            "| 1262|(2015,[2014],[1.0])| (4,[2],[1.0])|(10,[4],[1.0])|  (41,[14],[1.0])|(274,[91],[1.0])|   (32,[1],[1.0])|   (8,[3],[1.0])|(24,[17],[1.0])|(2408,[2014,2017,...|\n",
            "| 1122|(2015,[2014],[1.0])| (4,[2],[1.0])|(10,[4],[1.0])|  (41,[14],[1.0])|(274,[91],[1.0])|   (32,[1],[1.0])|   (8,[3],[1.0])|(24,[18],[1.0])|(2408,[2014,2017,...|\n",
            "| 1018|(2015,[2014],[1.0])| (4,[2],[1.0])|(10,[4],[1.0])|  (41,[14],[1.0])|(274,[91],[1.0])|   (32,[1],[1.0])|   (8,[3],[1.0])|(24,[19],[1.0])|(2408,[2014,2017,...|\n",
            "+-----+-------------------+--------------+--------------+-----------------+----------------+-----------------+----------------+---------------+--------------------+\n",
            "only showing top 20 rows\n",
            "\n",
            "+-----+-------------------+--------------+--------------+-----------------+-----------------+-----------------+----------------+---------------+--------------------+\n",
            "|label|        YEAREncoded|QUARTEREncoded|  MonthEncoded|WeekOfYearEncoded|   yeardayEncoded|dayofmonthEncoded|dayofweekEncoded|    hourEncoded|        AllEFeatures|\n",
            "+-----+-------------------+--------------+--------------+-----------------+-----------------+-----------------+----------------+---------------+--------------------+\n",
            "|  699|(2015,[2014],[1.0])| (4,[3],[1.0])|(10,[9],[1.0])|  (41,[36],[1.0])|(274,[244],[1.0])|   (32,[1],[1.0])|   (8,[2],[1.0])| (24,[0],[1.0])|(2408,[2014,2018,...|\n",
            "|  490|(2015,[2014],[1.0])| (4,[3],[1.0])|(10,[9],[1.0])|  (41,[36],[1.0])|(274,[244],[1.0])|   (32,[1],[1.0])|   (8,[2],[1.0])| (24,[1],[1.0])|(2408,[2014,2018,...|\n",
            "|  363|(2015,[2014],[1.0])| (4,[3],[1.0])|(10,[9],[1.0])|  (41,[36],[1.0])|(274,[244],[1.0])|   (32,[1],[1.0])|   (8,[2],[1.0])| (24,[2],[1.0])|(2408,[2014,2018,...|\n",
            "|  333|(2015,[2014],[1.0])| (4,[3],[1.0])|(10,[9],[1.0])|  (41,[36],[1.0])|(274,[244],[1.0])|   (32,[1],[1.0])|   (8,[2],[1.0])| (24,[3],[1.0])|(2408,[2014,2018,...|\n",
            "|  261|(2015,[2014],[1.0])| (4,[3],[1.0])|(10,[9],[1.0])|  (41,[36],[1.0])|(274,[244],[1.0])|   (32,[1],[1.0])|   (8,[2],[1.0])| (24,[4],[1.0])|(2408,[2014,2018,...|\n",
            "|  283|(2015,[2014],[1.0])| (4,[3],[1.0])|(10,[9],[1.0])|  (41,[36],[1.0])|(274,[244],[1.0])|   (32,[1],[1.0])|   (8,[2],[1.0])| (24,[5],[1.0])|(2408,[2014,2018,...|\n",
            "|  330|(2015,[2014],[1.0])| (4,[3],[1.0])|(10,[9],[1.0])|  (41,[36],[1.0])|(274,[244],[1.0])|   (32,[1],[1.0])|   (8,[2],[1.0])| (24,[6],[1.0])|(2408,[2014,2018,...|\n",
            "|  427|(2015,[2014],[1.0])| (4,[3],[1.0])|(10,[9],[1.0])|  (41,[36],[1.0])|(274,[244],[1.0])|   (32,[1],[1.0])|   (8,[2],[1.0])| (24,[7],[1.0])|(2408,[2014,2018,...|\n",
            "|  560|(2015,[2014],[1.0])| (4,[3],[1.0])|(10,[9],[1.0])|  (41,[36],[1.0])|(274,[244],[1.0])|   (32,[1],[1.0])|   (8,[2],[1.0])| (24,[8],[1.0])|(2408,[2014,2018,...|\n",
            "|  765|(2015,[2014],[1.0])| (4,[3],[1.0])|(10,[9],[1.0])|  (41,[36],[1.0])|(274,[244],[1.0])|   (32,[1],[1.0])|   (8,[2],[1.0])| (24,[9],[1.0])|(2408,[2014,2018,...|\n",
            "|  874|(2015,[2014],[1.0])| (4,[3],[1.0])|(10,[9],[1.0])|  (41,[36],[1.0])|(274,[244],[1.0])|   (32,[1],[1.0])|   (8,[2],[1.0])|(24,[10],[1.0])|(2408,[2014,2018,...|\n",
            "|  988|(2015,[2014],[1.0])| (4,[3],[1.0])|(10,[9],[1.0])|  (41,[36],[1.0])|(274,[244],[1.0])|   (32,[1],[1.0])|   (8,[2],[1.0])|(24,[11],[1.0])|(2408,[2014,2018,...|\n",
            "| 1021|(2015,[2014],[1.0])| (4,[3],[1.0])|(10,[9],[1.0])|  (41,[36],[1.0])|(274,[244],[1.0])|   (32,[1],[1.0])|   (8,[2],[1.0])|(24,[12],[1.0])|(2408,[2014,2018,...|\n",
            "| 1125|(2015,[2014],[1.0])| (4,[3],[1.0])|(10,[9],[1.0])|  (41,[36],[1.0])|(274,[244],[1.0])|   (32,[1],[1.0])|   (8,[2],[1.0])|(24,[13],[1.0])|(2408,[2014,2018,...|\n",
            "| 1222|(2015,[2014],[1.0])| (4,[3],[1.0])|(10,[9],[1.0])|  (41,[36],[1.0])|(274,[244],[1.0])|   (32,[1],[1.0])|   (8,[2],[1.0])|(24,[14],[1.0])|(2408,[2014,2018,...|\n",
            "| 1345|(2015,[2014],[1.0])| (4,[3],[1.0])|(10,[9],[1.0])|  (41,[36],[1.0])|(274,[244],[1.0])|   (32,[1],[1.0])|   (8,[2],[1.0])|(24,[15],[1.0])|(2408,[2014,2018,...|\n",
            "| 1473|(2015,[2014],[1.0])| (4,[3],[1.0])|(10,[9],[1.0])|  (41,[36],[1.0])|(274,[244],[1.0])|   (32,[1],[1.0])|   (8,[2],[1.0])|(24,[16],[1.0])|(2408,[2014,2018,...|\n",
            "| 1341|(2015,[2014],[1.0])| (4,[3],[1.0])|(10,[9],[1.0])|  (41,[36],[1.0])|(274,[244],[1.0])|   (32,[1],[1.0])|   (8,[2],[1.0])|(24,[17],[1.0])|(2408,[2014,2018,...|\n",
            "| 1248|(2015,[2014],[1.0])| (4,[3],[1.0])|(10,[9],[1.0])|  (41,[36],[1.0])|(274,[244],[1.0])|   (32,[1],[1.0])|   (8,[2],[1.0])|(24,[18],[1.0])|(2408,[2014,2018,...|\n",
            "| 1251|(2015,[2014],[1.0])| (4,[3],[1.0])|(10,[9],[1.0])|  (41,[36],[1.0])|(274,[244],[1.0])|   (32,[1],[1.0])|   (8,[2],[1.0])|(24,[19],[1.0])|(2408,[2014,2018,...|\n",
            "+-----+-------------------+--------------+--------------+-----------------+-----------------+-----------------+----------------+---------------+--------------------+\n",
            "only showing top 20 rows\n",
            "\n"
          ]
        }
      ]
    },
    {
      "cell_type": "code",
      "source": [
        "print('Training Dataset Count: ' , eaf_train_dataset.count())\n",
        "print('Training Dataset Count: ' , eaf_test_dataset.count())\n",
        "\n",
        "logreg2=LogisticRegression(featuresCol='AllEFeatures',labelCol='label',maxIter=10)\n",
        "learningModel2=logreg2.fit(eaf_train_dataset)\n",
        "Predictions2=learningModel2.transform(eaf_test_dataset)\n",
        "Predictions2.show()"
      ],
      "metadata": {
        "colab": {
          "base_uri": "https://localhost:8080/",
          "height": 1000
        },
        "id": "t1EUY1mbwh7m",
        "outputId": "6ec32bf0-c2fc-4def-8f0e-b79129124bee"
      },
      "execution_count": 14,
      "outputs": [
        {
          "output_type": "stream",
          "name": "stdout",
          "text": [
            "Training Dataset Count:  3672\n",
            "Training Dataset Count:  719\n"
          ]
        },
        {
          "output_type": "stream",
          "name": "stderr",
          "text": [
            "----------------------------------------\n",
            "Exception happened during processing of request from ('127.0.0.1', 44522)\n",
            "ERROR:root:Exception while sending command.\n",
            "Traceback (most recent call last):\n",
            "  File \"/usr/local/lib/python3.7/dist-packages/IPython/core/interactiveshell.py\", line 2882, in run_code\n",
            "    exec(code_obj, self.user_global_ns, self.user_ns)\n",
            "  File \"<ipython-input-14-dfac75b90c5b>\", line 5, in <module>\n",
            "    learningModel2=logreg2.fit(eaf_train_dataset)\n",
            "  File \"/usr/local/lib/python3.7/dist-packages/pyspark/ml/base.py\", line 205, in fit\n",
            "    return self._fit(dataset)\n",
            "  File \"/usr/local/lib/python3.7/dist-packages/pyspark/ml/wrapper.py\", line 379, in _fit\n",
            "    java_model = self._fit_java(dataset)\n",
            "  File \"/usr/local/lib/python3.7/dist-packages/pyspark/ml/wrapper.py\", line 376, in _fit_java\n",
            "    return self._java_obj.fit(dataset._jdf)\n",
            "  File \"/usr/local/lib/python3.7/dist-packages/py4j/java_gateway.py\", line 1322, in __call__\n",
            "    answer, self.gateway_client, self.target_id, self.name)\n",
            "  File \"/usr/local/lib/python3.7/dist-packages/pyspark/sql/utils.py\", line 190, in deco\n",
            "    return f(*a, **kw)\n",
            "  File \"/usr/local/lib/python3.7/dist-packages/py4j/protocol.py\", line 328, in get_return_value\n",
            "    format(target_id, \".\", name), value)\n",
            "py4j.protocol.Py4JJavaError: <unprintable Py4JJavaError object>\n",
            "\n",
            "During handling of the above exception, another exception occurred:\n",
            "\n",
            "Traceback (most recent call last):\n",
            "  File \"/usr/local/lib/python3.7/dist-packages/IPython/core/interactiveshell.py\", line 1823, in showtraceback\n",
            "    stb = value._render_traceback_()\n",
            "AttributeError: 'Py4JJavaError' object has no attribute '_render_traceback_'\n",
            "\n",
            "During handling of the above exception, another exception occurred:\n",
            "\n",
            "Traceback (most recent call last):\n",
            "  File \"/usr/local/lib/python3.7/dist-packages/py4j/clientserver.py\", line 516, in send_command\n",
            "    raise Py4JNetworkError(\"Answer from Java side is empty\")\n",
            "py4j.protocol.Py4JNetworkError: Answer from Java side is empty\n",
            "\n",
            "During handling of the above exception, another exception occurred:\n",
            "\n",
            "Traceback (most recent call last):\n",
            "  File \"/usr/local/lib/python3.7/dist-packages/py4j/java_gateway.py\", line 1038, in send_command\n",
            "    response = connection.send_command(command)\n",
            "  File \"/usr/local/lib/python3.7/dist-packages/py4j/clientserver.py\", line 540, in send_command\n",
            "    \"Error while sending or receiving\", e, proto.ERROR_ON_RECEIVE)\n",
            "py4j.protocol.Py4JNetworkError: Error while sending or receiving\n",
            "Traceback (most recent call last):\n",
            "  File \"/usr/lib/python3.7/socketserver.py\", line 316, in _handle_request_noblock\n",
            "    self.process_request(request, client_address)\n",
            "  File \"/usr/lib/python3.7/socketserver.py\", line 347, in process_request\n",
            "    self.finish_request(request, client_address)\n",
            "  File \"/usr/lib/python3.7/socketserver.py\", line 360, in finish_request\n",
            "    self.RequestHandlerClass(request, client_address, self)\n",
            "  File \"/usr/lib/python3.7/socketserver.py\", line 720, in __init__\n",
            "    self.handle()\n",
            "  File \"/usr/local/lib/python3.7/dist-packages/pyspark/accumulators.py\", line 281, in handle\n",
            "    poll(accum_updates)\n",
            "  File \"/usr/local/lib/python3.7/dist-packages/pyspark/accumulators.py\", line 253, in poll\n",
            "    if func():\n",
            "  File \"/usr/local/lib/python3.7/dist-packages/pyspark/accumulators.py\", line 257, in accum_updates\n",
            "    num_updates = read_int(self.rfile)\n",
            "  File \"/usr/local/lib/python3.7/dist-packages/pyspark/serializers.py\", line 595, in read_int\n",
            "    raise EOFError\n",
            "EOFError\n",
            "----------------------------------------\n"
          ]
        },
        {
          "output_type": "error",
          "ename": "ConnectionRefusedError",
          "evalue": "ignored",
          "traceback": [
            "\u001b[0;31m---------------------------------------------------------------------------\u001b[0m",
            "\u001b[0;31mPy4JJavaError\u001b[0m                             Traceback (most recent call last)",
            "\u001b[0;32m/usr/local/lib/python3.7/dist-packages/IPython/core/interactiveshell.py\u001b[0m in \u001b[0;36mrun_code\u001b[0;34m(self, code_obj, result)\u001b[0m\n\u001b[1;32m   2881\u001b[0m                 \u001b[0;31m#rprint('Running code', repr(code_obj)) # dbg\u001b[0m\u001b[0;34m\u001b[0m\u001b[0;34m\u001b[0m\u001b[0;34m\u001b[0m\u001b[0m\n\u001b[0;32m-> 2882\u001b[0;31m                 \u001b[0mexec\u001b[0m\u001b[0;34m(\u001b[0m\u001b[0mcode_obj\u001b[0m\u001b[0;34m,\u001b[0m \u001b[0mself\u001b[0m\u001b[0;34m.\u001b[0m\u001b[0muser_global_ns\u001b[0m\u001b[0;34m,\u001b[0m \u001b[0mself\u001b[0m\u001b[0;34m.\u001b[0m\u001b[0muser_ns\u001b[0m\u001b[0;34m)\u001b[0m\u001b[0;34m\u001b[0m\u001b[0;34m\u001b[0m\u001b[0m\n\u001b[0m\u001b[1;32m   2883\u001b[0m             \u001b[0;32mfinally\u001b[0m\u001b[0;34m:\u001b[0m\u001b[0;34m\u001b[0m\u001b[0;34m\u001b[0m\u001b[0m\n",
            "\u001b[0;32m<ipython-input-14-dfac75b90c5b>\u001b[0m in \u001b[0;36m<module>\u001b[0;34m()\u001b[0m\n\u001b[1;32m      4\u001b[0m \u001b[0mlogreg2\u001b[0m\u001b[0;34m=\u001b[0m\u001b[0mLogisticRegression\u001b[0m\u001b[0;34m(\u001b[0m\u001b[0mfeaturesCol\u001b[0m\u001b[0;34m=\u001b[0m\u001b[0;34m'AllEFeatures'\u001b[0m\u001b[0;34m,\u001b[0m\u001b[0mlabelCol\u001b[0m\u001b[0;34m=\u001b[0m\u001b[0;34m'label'\u001b[0m\u001b[0;34m,\u001b[0m\u001b[0mmaxIter\u001b[0m\u001b[0;34m=\u001b[0m\u001b[0;36m10\u001b[0m\u001b[0;34m)\u001b[0m\u001b[0;34m\u001b[0m\u001b[0;34m\u001b[0m\u001b[0m\n\u001b[0;32m----> 5\u001b[0;31m \u001b[0mlearningModel2\u001b[0m\u001b[0;34m=\u001b[0m\u001b[0mlogreg2\u001b[0m\u001b[0;34m.\u001b[0m\u001b[0mfit\u001b[0m\u001b[0;34m(\u001b[0m\u001b[0meaf_train_dataset\u001b[0m\u001b[0;34m)\u001b[0m\u001b[0;34m\u001b[0m\u001b[0;34m\u001b[0m\u001b[0m\n\u001b[0m\u001b[1;32m      6\u001b[0m \u001b[0mPredictions2\u001b[0m\u001b[0;34m=\u001b[0m\u001b[0mlearningModel2\u001b[0m\u001b[0;34m.\u001b[0m\u001b[0mtransform\u001b[0m\u001b[0;34m(\u001b[0m\u001b[0meaf_test_dataset\u001b[0m\u001b[0;34m)\u001b[0m\u001b[0;34m\u001b[0m\u001b[0;34m\u001b[0m\u001b[0m\n",
            "\u001b[0;32m/usr/local/lib/python3.7/dist-packages/pyspark/ml/base.py\u001b[0m in \u001b[0;36mfit\u001b[0;34m(self, dataset, params)\u001b[0m\n\u001b[1;32m    204\u001b[0m             \u001b[0;32melse\u001b[0m\u001b[0;34m:\u001b[0m\u001b[0;34m\u001b[0m\u001b[0;34m\u001b[0m\u001b[0m\n\u001b[0;32m--> 205\u001b[0;31m                 \u001b[0;32mreturn\u001b[0m \u001b[0mself\u001b[0m\u001b[0;34m.\u001b[0m\u001b[0m_fit\u001b[0m\u001b[0;34m(\u001b[0m\u001b[0mdataset\u001b[0m\u001b[0;34m)\u001b[0m\u001b[0;34m\u001b[0m\u001b[0;34m\u001b[0m\u001b[0m\n\u001b[0m\u001b[1;32m    206\u001b[0m         \u001b[0;32melse\u001b[0m\u001b[0;34m:\u001b[0m\u001b[0;34m\u001b[0m\u001b[0;34m\u001b[0m\u001b[0m\n",
            "\u001b[0;32m/usr/local/lib/python3.7/dist-packages/pyspark/ml/wrapper.py\u001b[0m in \u001b[0;36m_fit\u001b[0;34m(self, dataset)\u001b[0m\n\u001b[1;32m    378\u001b[0m     \u001b[0;32mdef\u001b[0m \u001b[0m_fit\u001b[0m\u001b[0;34m(\u001b[0m\u001b[0mself\u001b[0m\u001b[0;34m,\u001b[0m \u001b[0mdataset\u001b[0m\u001b[0;34m:\u001b[0m \u001b[0mDataFrame\u001b[0m\u001b[0;34m)\u001b[0m \u001b[0;34m->\u001b[0m \u001b[0mJM\u001b[0m\u001b[0;34m:\u001b[0m\u001b[0;34m\u001b[0m\u001b[0;34m\u001b[0m\u001b[0m\n\u001b[0;32m--> 379\u001b[0;31m         \u001b[0mjava_model\u001b[0m \u001b[0;34m=\u001b[0m \u001b[0mself\u001b[0m\u001b[0;34m.\u001b[0m\u001b[0m_fit_java\u001b[0m\u001b[0;34m(\u001b[0m\u001b[0mdataset\u001b[0m\u001b[0;34m)\u001b[0m\u001b[0;34m\u001b[0m\u001b[0;34m\u001b[0m\u001b[0m\n\u001b[0m\u001b[1;32m    380\u001b[0m         \u001b[0mmodel\u001b[0m \u001b[0;34m=\u001b[0m \u001b[0mself\u001b[0m\u001b[0;34m.\u001b[0m\u001b[0m_create_model\u001b[0m\u001b[0;34m(\u001b[0m\u001b[0mjava_model\u001b[0m\u001b[0;34m)\u001b[0m\u001b[0;34m\u001b[0m\u001b[0;34m\u001b[0m\u001b[0m\n",
            "\u001b[0;32m/usr/local/lib/python3.7/dist-packages/pyspark/ml/wrapper.py\u001b[0m in \u001b[0;36m_fit_java\u001b[0;34m(self, dataset)\u001b[0m\n\u001b[1;32m    375\u001b[0m         \u001b[0mself\u001b[0m\u001b[0;34m.\u001b[0m\u001b[0m_transfer_params_to_java\u001b[0m\u001b[0;34m(\u001b[0m\u001b[0;34m)\u001b[0m\u001b[0;34m\u001b[0m\u001b[0;34m\u001b[0m\u001b[0m\n\u001b[0;32m--> 376\u001b[0;31m         \u001b[0;32mreturn\u001b[0m \u001b[0mself\u001b[0m\u001b[0;34m.\u001b[0m\u001b[0m_java_obj\u001b[0m\u001b[0;34m.\u001b[0m\u001b[0mfit\u001b[0m\u001b[0;34m(\u001b[0m\u001b[0mdataset\u001b[0m\u001b[0;34m.\u001b[0m\u001b[0m_jdf\u001b[0m\u001b[0;34m)\u001b[0m\u001b[0;34m\u001b[0m\u001b[0;34m\u001b[0m\u001b[0m\n\u001b[0m\u001b[1;32m    377\u001b[0m \u001b[0;34m\u001b[0m\u001b[0m\n",
            "\u001b[0;32m/usr/local/lib/python3.7/dist-packages/py4j/java_gateway.py\u001b[0m in \u001b[0;36m__call__\u001b[0;34m(self, *args)\u001b[0m\n\u001b[1;32m   1321\u001b[0m         return_value = get_return_value(\n\u001b[0;32m-> 1322\u001b[0;31m             answer, self.gateway_client, self.target_id, self.name)\n\u001b[0m\u001b[1;32m   1323\u001b[0m \u001b[0;34m\u001b[0m\u001b[0m\n",
            "\u001b[0;32m/usr/local/lib/python3.7/dist-packages/pyspark/sql/utils.py\u001b[0m in \u001b[0;36mdeco\u001b[0;34m(*a, **kw)\u001b[0m\n\u001b[1;32m    189\u001b[0m         \u001b[0;32mtry\u001b[0m\u001b[0;34m:\u001b[0m\u001b[0;34m\u001b[0m\u001b[0;34m\u001b[0m\u001b[0m\n\u001b[0;32m--> 190\u001b[0;31m             \u001b[0;32mreturn\u001b[0m \u001b[0mf\u001b[0m\u001b[0;34m(\u001b[0m\u001b[0;34m*\u001b[0m\u001b[0ma\u001b[0m\u001b[0;34m,\u001b[0m \u001b[0;34m**\u001b[0m\u001b[0mkw\u001b[0m\u001b[0;34m)\u001b[0m\u001b[0;34m\u001b[0m\u001b[0;34m\u001b[0m\u001b[0m\n\u001b[0m\u001b[1;32m    191\u001b[0m         \u001b[0;32mexcept\u001b[0m \u001b[0mPy4JJavaError\u001b[0m \u001b[0;32mas\u001b[0m \u001b[0me\u001b[0m\u001b[0;34m:\u001b[0m\u001b[0;34m\u001b[0m\u001b[0;34m\u001b[0m\u001b[0m\n",
            "\u001b[0;32m/usr/local/lib/python3.7/dist-packages/py4j/protocol.py\u001b[0m in \u001b[0;36mget_return_value\u001b[0;34m(answer, gateway_client, target_id, name)\u001b[0m\n\u001b[1;32m    327\u001b[0m                     \u001b[0;34m\"An error occurred while calling {0}{1}{2}.\\n\"\u001b[0m\u001b[0;34m.\u001b[0m\u001b[0;34m\u001b[0m\u001b[0;34m\u001b[0m\u001b[0m\n\u001b[0;32m--> 328\u001b[0;31m                     format(target_id, \".\", name), value)\n\u001b[0m\u001b[1;32m    329\u001b[0m             \u001b[0;32melse\u001b[0m\u001b[0;34m:\u001b[0m\u001b[0;34m\u001b[0m\u001b[0;34m\u001b[0m\u001b[0m\n",
            "\u001b[0;31m<class 'str'>\u001b[0m: (<class 'ConnectionRefusedError'>, ConnectionRefusedError(111, 'Connection refused'))",
            "\nDuring handling of the above exception, another exception occurred:\n",
            "\u001b[0;31mConnectionRefusedError\u001b[0m                    Traceback (most recent call last)",
            "\u001b[0;32m/usr/local/lib/python3.7/dist-packages/IPython/core/interactiveshell.py\u001b[0m in \u001b[0;36mrun_code\u001b[0;34m(self, code_obj, result)\u001b[0m\n\u001b[1;32m   2897\u001b[0m             \u001b[0;32mif\u001b[0m \u001b[0mresult\u001b[0m \u001b[0;32mis\u001b[0m \u001b[0;32mnot\u001b[0m \u001b[0;32mNone\u001b[0m\u001b[0;34m:\u001b[0m\u001b[0;34m\u001b[0m\u001b[0;34m\u001b[0m\u001b[0m\n\u001b[1;32m   2898\u001b[0m                 \u001b[0mresult\u001b[0m\u001b[0;34m.\u001b[0m\u001b[0merror_in_exec\u001b[0m \u001b[0;34m=\u001b[0m \u001b[0msys\u001b[0m\u001b[0;34m.\u001b[0m\u001b[0mexc_info\u001b[0m\u001b[0;34m(\u001b[0m\u001b[0;34m)\u001b[0m\u001b[0;34m[\u001b[0m\u001b[0;36m1\u001b[0m\u001b[0;34m]\u001b[0m\u001b[0;34m\u001b[0m\u001b[0;34m\u001b[0m\u001b[0m\n\u001b[0;32m-> 2899\u001b[0;31m             \u001b[0mself\u001b[0m\u001b[0;34m.\u001b[0m\u001b[0mshowtraceback\u001b[0m\u001b[0;34m(\u001b[0m\u001b[0;34m)\u001b[0m\u001b[0;34m\u001b[0m\u001b[0;34m\u001b[0m\u001b[0m\n\u001b[0m\u001b[1;32m   2900\u001b[0m         \u001b[0;32melse\u001b[0m\u001b[0;34m:\u001b[0m\u001b[0;34m\u001b[0m\u001b[0;34m\u001b[0m\u001b[0m\n\u001b[1;32m   2901\u001b[0m             \u001b[0moutflag\u001b[0m \u001b[0;34m=\u001b[0m \u001b[0;36m0\u001b[0m\u001b[0;34m\u001b[0m\u001b[0;34m\u001b[0m\u001b[0m\n",
            "\u001b[0;32m/usr/local/lib/python3.7/dist-packages/IPython/core/interactiveshell.py\u001b[0m in \u001b[0;36mshowtraceback\u001b[0;34m(self, exc_tuple, filename, tb_offset, exception_only)\u001b[0m\n\u001b[1;32m   1826\u001b[0m                                             value, tb, tb_offset=tb_offset)\n\u001b[1;32m   1827\u001b[0m \u001b[0;34m\u001b[0m\u001b[0m\n\u001b[0;32m-> 1828\u001b[0;31m                     \u001b[0mself\u001b[0m\u001b[0;34m.\u001b[0m\u001b[0m_showtraceback\u001b[0m\u001b[0;34m(\u001b[0m\u001b[0metype\u001b[0m\u001b[0;34m,\u001b[0m \u001b[0mvalue\u001b[0m\u001b[0;34m,\u001b[0m \u001b[0mstb\u001b[0m\u001b[0;34m)\u001b[0m\u001b[0;34m\u001b[0m\u001b[0;34m\u001b[0m\u001b[0m\n\u001b[0m\u001b[1;32m   1829\u001b[0m                     \u001b[0;32mif\u001b[0m \u001b[0mself\u001b[0m\u001b[0;34m.\u001b[0m\u001b[0mcall_pdb\u001b[0m\u001b[0;34m:\u001b[0m\u001b[0;34m\u001b[0m\u001b[0;34m\u001b[0m\u001b[0m\n\u001b[1;32m   1830\u001b[0m                         \u001b[0;31m# drop into debugger\u001b[0m\u001b[0;34m\u001b[0m\u001b[0;34m\u001b[0m\u001b[0;34m\u001b[0m\u001b[0m\n",
            "\u001b[0;32m/usr/local/lib/python3.7/dist-packages/google/colab/_shell.py\u001b[0m in \u001b[0;36m_showtraceback\u001b[0;34m(self, etype, evalue, stb)\u001b[0m\n\u001b[1;32m    131\u001b[0m         \u001b[0;34m'traceback'\u001b[0m\u001b[0;34m:\u001b[0m \u001b[0mstb\u001b[0m\u001b[0;34m,\u001b[0m\u001b[0;34m\u001b[0m\u001b[0;34m\u001b[0m\u001b[0m\n\u001b[1;32m    132\u001b[0m         \u001b[0;34m'ename'\u001b[0m\u001b[0;34m:\u001b[0m \u001b[0mpy3compat\u001b[0m\u001b[0;34m.\u001b[0m\u001b[0municode_type\u001b[0m\u001b[0;34m(\u001b[0m\u001b[0metype\u001b[0m\u001b[0;34m.\u001b[0m\u001b[0m__name__\u001b[0m\u001b[0;34m)\u001b[0m\u001b[0;34m,\u001b[0m\u001b[0;34m\u001b[0m\u001b[0;34m\u001b[0m\u001b[0m\n\u001b[0;32m--> 133\u001b[0;31m         \u001b[0;34m'evalue'\u001b[0m\u001b[0;34m:\u001b[0m \u001b[0mpy3compat\u001b[0m\u001b[0;34m.\u001b[0m\u001b[0msafe_unicode\u001b[0m\u001b[0;34m(\u001b[0m\u001b[0mevalue\u001b[0m\u001b[0;34m)\u001b[0m\u001b[0;34m,\u001b[0m\u001b[0;34m\u001b[0m\u001b[0;34m\u001b[0m\u001b[0m\n\u001b[0m\u001b[1;32m    134\u001b[0m     }\n\u001b[1;32m    135\u001b[0m \u001b[0;34m\u001b[0m\u001b[0m\n",
            "\u001b[0;32m/usr/local/lib/python3.7/dist-packages/ipython_genutils/py3compat.py\u001b[0m in \u001b[0;36msafe_unicode\u001b[0;34m(e)\u001b[0m\n\u001b[1;32m     63\u001b[0m     \"\"\"\n\u001b[1;32m     64\u001b[0m     \u001b[0;32mtry\u001b[0m\u001b[0;34m:\u001b[0m\u001b[0;34m\u001b[0m\u001b[0;34m\u001b[0m\u001b[0m\n\u001b[0;32m---> 65\u001b[0;31m         \u001b[0;32mreturn\u001b[0m \u001b[0municode_type\u001b[0m\u001b[0;34m(\u001b[0m\u001b[0me\u001b[0m\u001b[0;34m)\u001b[0m\u001b[0;34m\u001b[0m\u001b[0;34m\u001b[0m\u001b[0m\n\u001b[0m\u001b[1;32m     66\u001b[0m     \u001b[0;32mexcept\u001b[0m \u001b[0mUnicodeError\u001b[0m\u001b[0;34m:\u001b[0m\u001b[0;34m\u001b[0m\u001b[0;34m\u001b[0m\u001b[0m\n\u001b[1;32m     67\u001b[0m         \u001b[0;32mpass\u001b[0m\u001b[0;34m\u001b[0m\u001b[0;34m\u001b[0m\u001b[0m\n",
            "\u001b[0;32m/usr/local/lib/python3.7/dist-packages/py4j/protocol.py\u001b[0m in \u001b[0;36m__str__\u001b[0;34m(self)\u001b[0m\n\u001b[1;32m    469\u001b[0m     \u001b[0;32mdef\u001b[0m \u001b[0m__str__\u001b[0m\u001b[0;34m(\u001b[0m\u001b[0mself\u001b[0m\u001b[0;34m)\u001b[0m\u001b[0;34m:\u001b[0m\u001b[0;34m\u001b[0m\u001b[0;34m\u001b[0m\u001b[0m\n\u001b[1;32m    470\u001b[0m         \u001b[0mgateway_client\u001b[0m \u001b[0;34m=\u001b[0m \u001b[0mself\u001b[0m\u001b[0;34m.\u001b[0m\u001b[0mjava_exception\u001b[0m\u001b[0;34m.\u001b[0m\u001b[0m_gateway_client\u001b[0m\u001b[0;34m\u001b[0m\u001b[0;34m\u001b[0m\u001b[0m\n\u001b[0;32m--> 471\u001b[0;31m         \u001b[0manswer\u001b[0m \u001b[0;34m=\u001b[0m \u001b[0mgateway_client\u001b[0m\u001b[0;34m.\u001b[0m\u001b[0msend_command\u001b[0m\u001b[0;34m(\u001b[0m\u001b[0mself\u001b[0m\u001b[0;34m.\u001b[0m\u001b[0mexception_cmd\u001b[0m\u001b[0;34m)\u001b[0m\u001b[0;34m\u001b[0m\u001b[0;34m\u001b[0m\u001b[0m\n\u001b[0m\u001b[1;32m    472\u001b[0m         \u001b[0mreturn_value\u001b[0m \u001b[0;34m=\u001b[0m \u001b[0mget_return_value\u001b[0m\u001b[0;34m(\u001b[0m\u001b[0manswer\u001b[0m\u001b[0;34m,\u001b[0m \u001b[0mgateway_client\u001b[0m\u001b[0;34m,\u001b[0m \u001b[0;32mNone\u001b[0m\u001b[0;34m,\u001b[0m \u001b[0;32mNone\u001b[0m\u001b[0;34m)\u001b[0m\u001b[0;34m\u001b[0m\u001b[0;34m\u001b[0m\u001b[0m\n\u001b[1;32m    473\u001b[0m         \u001b[0;31m# Note: technically this should return a bytestring 'str' rather than\u001b[0m\u001b[0;34m\u001b[0m\u001b[0;34m\u001b[0m\u001b[0;34m\u001b[0m\u001b[0m\n",
            "\u001b[0;32m/usr/local/lib/python3.7/dist-packages/py4j/java_gateway.py\u001b[0m in \u001b[0;36msend_command\u001b[0;34m(self, command, retry, binary)\u001b[0m\n\u001b[1;32m   1034\u001b[0m          \u001b[0;32mif\u001b[0m\u001b[0;31m \u001b[0m\u001b[0;31m`\u001b[0m\u001b[0mbinary\u001b[0m\u001b[0;31m`\u001b[0m \u001b[0;32mis\u001b[0m\u001b[0;31m \u001b[0m\u001b[0;31m`\u001b[0m\u001b[0;32mTrue\u001b[0m\u001b[0;31m`\u001b[0m\u001b[0;34m.\u001b[0m\u001b[0;34m\u001b[0m\u001b[0;34m\u001b[0m\u001b[0m\n\u001b[1;32m   1035\u001b[0m         \"\"\"\n\u001b[0;32m-> 1036\u001b[0;31m         \u001b[0mconnection\u001b[0m \u001b[0;34m=\u001b[0m \u001b[0mself\u001b[0m\u001b[0;34m.\u001b[0m\u001b[0m_get_connection\u001b[0m\u001b[0;34m(\u001b[0m\u001b[0;34m)\u001b[0m\u001b[0;34m\u001b[0m\u001b[0;34m\u001b[0m\u001b[0m\n\u001b[0m\u001b[1;32m   1037\u001b[0m         \u001b[0;32mtry\u001b[0m\u001b[0;34m:\u001b[0m\u001b[0;34m\u001b[0m\u001b[0;34m\u001b[0m\u001b[0m\n\u001b[1;32m   1038\u001b[0m             \u001b[0mresponse\u001b[0m \u001b[0;34m=\u001b[0m \u001b[0mconnection\u001b[0m\u001b[0;34m.\u001b[0m\u001b[0msend_command\u001b[0m\u001b[0;34m(\u001b[0m\u001b[0mcommand\u001b[0m\u001b[0;34m)\u001b[0m\u001b[0;34m\u001b[0m\u001b[0;34m\u001b[0m\u001b[0m\n",
            "\u001b[0;32m/usr/local/lib/python3.7/dist-packages/py4j/clientserver.py\u001b[0m in \u001b[0;36m_get_connection\u001b[0;34m(self)\u001b[0m\n\u001b[1;32m    282\u001b[0m \u001b[0;34m\u001b[0m\u001b[0m\n\u001b[1;32m    283\u001b[0m         \u001b[0;32mif\u001b[0m \u001b[0mconnection\u001b[0m \u001b[0;32mis\u001b[0m \u001b[0;32mNone\u001b[0m \u001b[0;32mor\u001b[0m \u001b[0mconnection\u001b[0m\u001b[0;34m.\u001b[0m\u001b[0msocket\u001b[0m \u001b[0;32mis\u001b[0m \u001b[0;32mNone\u001b[0m\u001b[0;34m:\u001b[0m\u001b[0;34m\u001b[0m\u001b[0;34m\u001b[0m\u001b[0m\n\u001b[0;32m--> 284\u001b[0;31m             \u001b[0mconnection\u001b[0m \u001b[0;34m=\u001b[0m \u001b[0mself\u001b[0m\u001b[0;34m.\u001b[0m\u001b[0m_create_new_connection\u001b[0m\u001b[0;34m(\u001b[0m\u001b[0;34m)\u001b[0m\u001b[0;34m\u001b[0m\u001b[0;34m\u001b[0m\u001b[0m\n\u001b[0m\u001b[1;32m    285\u001b[0m         \u001b[0;32mreturn\u001b[0m \u001b[0mconnection\u001b[0m\u001b[0;34m\u001b[0m\u001b[0;34m\u001b[0m\u001b[0m\n\u001b[1;32m    286\u001b[0m \u001b[0;34m\u001b[0m\u001b[0m\n",
            "\u001b[0;32m/usr/local/lib/python3.7/dist-packages/py4j/clientserver.py\u001b[0m in \u001b[0;36m_create_new_connection\u001b[0;34m(self)\u001b[0m\n\u001b[1;32m    289\u001b[0m             \u001b[0mself\u001b[0m\u001b[0;34m.\u001b[0m\u001b[0mjava_parameters\u001b[0m\u001b[0;34m,\u001b[0m \u001b[0mself\u001b[0m\u001b[0;34m.\u001b[0m\u001b[0mpython_parameters\u001b[0m\u001b[0;34m,\u001b[0m\u001b[0;34m\u001b[0m\u001b[0;34m\u001b[0m\u001b[0m\n\u001b[1;32m    290\u001b[0m             self.gateway_property, self)\n\u001b[0;32m--> 291\u001b[0;31m         \u001b[0mconnection\u001b[0m\u001b[0;34m.\u001b[0m\u001b[0mconnect_to_java_server\u001b[0m\u001b[0;34m(\u001b[0m\u001b[0;34m)\u001b[0m\u001b[0;34m\u001b[0m\u001b[0;34m\u001b[0m\u001b[0m\n\u001b[0m\u001b[1;32m    292\u001b[0m         \u001b[0mself\u001b[0m\u001b[0;34m.\u001b[0m\u001b[0mset_thread_connection\u001b[0m\u001b[0;34m(\u001b[0m\u001b[0mconnection\u001b[0m\u001b[0;34m)\u001b[0m\u001b[0;34m\u001b[0m\u001b[0;34m\u001b[0m\u001b[0m\n\u001b[1;32m    293\u001b[0m         \u001b[0;32mreturn\u001b[0m \u001b[0mconnection\u001b[0m\u001b[0;34m\u001b[0m\u001b[0;34m\u001b[0m\u001b[0m\n",
            "\u001b[0;32m/usr/local/lib/python3.7/dist-packages/py4j/clientserver.py\u001b[0m in \u001b[0;36mconnect_to_java_server\u001b[0;34m(self)\u001b[0m\n\u001b[1;32m    436\u001b[0m                 self.socket = self.ssl_context.wrap_socket(\n\u001b[1;32m    437\u001b[0m                     self.socket, server_hostname=self.java_address)\n\u001b[0;32m--> 438\u001b[0;31m             \u001b[0mself\u001b[0m\u001b[0;34m.\u001b[0m\u001b[0msocket\u001b[0m\u001b[0;34m.\u001b[0m\u001b[0mconnect\u001b[0m\u001b[0;34m(\u001b[0m\u001b[0;34m(\u001b[0m\u001b[0mself\u001b[0m\u001b[0;34m.\u001b[0m\u001b[0mjava_address\u001b[0m\u001b[0;34m,\u001b[0m \u001b[0mself\u001b[0m\u001b[0;34m.\u001b[0m\u001b[0mjava_port\u001b[0m\u001b[0;34m)\u001b[0m\u001b[0;34m)\u001b[0m\u001b[0;34m\u001b[0m\u001b[0;34m\u001b[0m\u001b[0m\n\u001b[0m\u001b[1;32m    439\u001b[0m             \u001b[0mself\u001b[0m\u001b[0;34m.\u001b[0m\u001b[0mstream\u001b[0m \u001b[0;34m=\u001b[0m \u001b[0mself\u001b[0m\u001b[0;34m.\u001b[0m\u001b[0msocket\u001b[0m\u001b[0;34m.\u001b[0m\u001b[0mmakefile\u001b[0m\u001b[0;34m(\u001b[0m\u001b[0;34m\"rb\"\u001b[0m\u001b[0;34m)\u001b[0m\u001b[0;34m\u001b[0m\u001b[0;34m\u001b[0m\u001b[0m\n\u001b[1;32m    440\u001b[0m             \u001b[0mself\u001b[0m\u001b[0;34m.\u001b[0m\u001b[0mis_connected\u001b[0m \u001b[0;34m=\u001b[0m \u001b[0;32mTrue\u001b[0m\u001b[0;34m\u001b[0m\u001b[0;34m\u001b[0m\u001b[0m\n",
            "\u001b[0;31mConnectionRefusedError\u001b[0m: [Errno 111] Connection refused"
          ]
        }
      ]
    }
  ]
}